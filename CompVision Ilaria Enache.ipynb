{
 "cells": [
  {
   "cell_type": "markdown",
   "metadata": {
    "id": "y9-fI8n7nhwD"
   },
   "source": [
    "Ilaria Enache \n",
    "\n",
    "Computer Vision and Machine Learning Lab"
   ]
  },
  {
   "cell_type": "markdown",
   "metadata": {
    "id": "Tc6XQihnxVW-"
   },
   "source": [
    "Link to the shared folder with all the data and datasets: https://drive.google.com/drive/folders/1caU3qpKqAhUKdmhJ0nLzWYzRu1ZAh1Y5?usp=sharing"
   ]
  },
  {
   "cell_type": "markdown",
   "metadata": {
    "id": "nnptLlHg_wj0"
   },
   "source": [
    "Importing useful libraries"
   ]
  },
  {
   "cell_type": "code",
   "execution_count": 1,
   "metadata": {
    "executionInfo": {
     "elapsed": 3383,
     "status": "ok",
     "timestamp": 1668520414380,
     "user": {
      "displayName": "ilaria enache",
      "userId": "11897907361892988235"
     },
     "user_tz": -60
    },
    "id": "qiVnItyEv0qL"
   },
   "outputs": [],
   "source": [
    "from IPython.display import display, Javascript\n",
    "from google.colab.output import eval_js\n",
    "from base64 import b64decode, b64encode\n",
    "from google.colab.patches import cv2_imshow\n",
    "import numpy as np\n",
    "from PIL import Image\n",
    "import time\n",
    "import random\n",
    "\n",
    "import io\n",
    "import cv2 # OpenCV library\n",
    "\n",
    "import matplotlib.pyplot as plt\n",
    "\n",
    "import keras\n",
    "from keras.models import Sequential\n",
    "from keras.layers import Dense, Dropout\n",
    "import tensorflow as tf\n",
    "from keras.models import model_from_json"
   ]
  },
  {
   "cell_type": "markdown",
   "metadata": {
    "id": "ppLNYA-DJ6xR"
   },
   "source": [
    "We start by testing if the camera is working and define the VideoCapture function to capture the images for the project. "
   ]
  },
  {
   "cell_type": "code",
   "execution_count": 2,
   "metadata": {
    "colab": {
     "base_uri": "https://localhost:8080/",
     "height": 518
    },
    "executionInfo": {
     "elapsed": 4359,
     "status": "ok",
     "timestamp": 1668520418719,
     "user": {
      "displayName": "ilaria enache",
      "userId": "11897907361892988235"
     },
     "user_tz": -60
    },
    "id": "dY5hPx29v9Lk",
    "outputId": "c596090f-4afb-4cab-b570-b429bfba704a"
   },
   "outputs": [
    {
     "data": {
      "application/javascript": [
       "\n",
       "    // the function 'create' creates the \"box\" that contains the videostream\n",
       "    // async functions return a promise, they make the code look synchronous, but it's asynchronous and non-blocking behind the scenes\n",
       "    async function create(){ \n",
       "      div = document.createElement('div');\n",
       "      document.body.appendChild(div);\n",
       "\n",
       "      video = document.createElement('video');\n",
       "      video.setAttribute('playsinline', '');\n",
       "\n",
       "      div.appendChild(video);\n",
       "      // await is used to call functions, the calling code will stop until the promise is resolved or rejected\n",
       "      stream = await navigator.mediaDevices.getUserMedia({video: {facingMode: \"environment\"}});\n",
       "      video.srcObject = stream;\n",
       "\n",
       "      // await is used to call functions, here we call the video.play() function\n",
       "      await video.play();\n",
       "\n",
       "      canvas =  document.createElement('canvas');\n",
       "      canvas.width = video.videoWidth;\n",
       "      canvas.height = video.videoHeight;\n",
       "      canvas.getContext('2d').drawImage(video, 0, 0);\n",
       "\n",
       "      div_out = document.createElement('div');\n",
       "      document.body.appendChild(div_out);\n",
       "      img = document.createElement('img');\n",
       "      div_out.appendChild(img);\n",
       "    }\n",
       "\n",
       "    //  \n",
       "    async function capture(){\n",
       "        return await new Promise(function(resolve, reject){\n",
       "            pendingResolve = resolve;\n",
       "            canvas.getContext('2d').drawImage(video, 0, 0);\n",
       "            result = canvas.toDataURL('image/jpeg', 0.80);\n",
       "\n",
       "            pendingResolve(result);\n",
       "        })\n",
       "    }\n",
       "\n",
       "    function showimg(imgb64){\n",
       "        img.src = \"data:image/jpg;base64,\" + imgb64;\n",
       "    }\n",
       "\n",
       "  "
      ],
      "text/plain": [
       "<IPython.core.display.Javascript object>"
      ]
     },
     "metadata": {},
     "output_type": "display_data"
    }
   ],
   "source": [
    "# VideoCapture creates a real time video stream \n",
    "\n",
    "def VideoCapture():\n",
    "  js = Javascript('''\n",
    "    // the function 'create' creates the \"box\" that contains the videostream\n",
    "    // async functions return a promise, they make the code look synchronous, but it's asynchronous and non-blocking behind the scenes\n",
    "    async function create(){ \n",
    "      div = document.createElement('div');\n",
    "      document.body.appendChild(div);\n",
    "\n",
    "      video = document.createElement('video');\n",
    "      video.setAttribute('playsinline', '');\n",
    "\n",
    "      div.appendChild(video);\n",
    "      // await is used to call functions, the calling code will stop until the promise is resolved or rejected\n",
    "      stream = await navigator.mediaDevices.getUserMedia({video: {facingMode: \"environment\"}});\n",
    "      video.srcObject = stream;\n",
    "\n",
    "      // await is used to call functions, here we call the video.play() function\n",
    "      await video.play();\n",
    "\n",
    "      canvas =  document.createElement('canvas');\n",
    "      canvas.width = video.videoWidth;\n",
    "      canvas.height = video.videoHeight;\n",
    "      canvas.getContext('2d').drawImage(video, 0, 0);\n",
    "\n",
    "      div_out = document.createElement('div');\n",
    "      document.body.appendChild(div_out);\n",
    "      img = document.createElement('img');\n",
    "      div_out.appendChild(img);\n",
    "    }\n",
    "\n",
    "    //  \n",
    "    async function capture(){\n",
    "        return await new Promise(function(resolve, reject){\n",
    "            pendingResolve = resolve;\n",
    "            canvas.getContext('2d').drawImage(video, 0, 0);\n",
    "            result = canvas.toDataURL('image/jpeg', 0.80);\n",
    "\n",
    "            pendingResolve(result);\n",
    "        })\n",
    "    }\n",
    "\n",
    "    function showimg(imgb64){\n",
    "        img.src = \"data:image/jpg;base64,\" + imgb64;\n",
    "    }\n",
    "\n",
    "  ''')\n",
    "  display(js)\n",
    "\n",
    "\n",
    "VideoCapture()\n",
    "eval_js('create()')\n",
    "\n",
    "image_max_width = 640\n",
    "image_max_height = 480"
   ]
  },
  {
   "cell_type": "code",
   "execution_count": 3,
   "metadata": {
    "colab": {
     "base_uri": "https://localhost:8080/"
    },
    "executionInfo": {
     "elapsed": 19437,
     "status": "ok",
     "timestamp": 1668520438153,
     "user": {
      "displayName": "ilaria enache",
      "userId": "11897907361892988235"
     },
     "user_tz": -60
    },
    "id": "xUx5166mwdYw",
    "outputId": "40026358-2754-47be-f87b-3180b3bcfade"
   },
   "outputs": [
    {
     "name": "stdout",
     "output_type": "stream",
     "text": [
      "Mounted at /content/gdrive\n"
     ]
    }
   ],
   "source": [
    "#access google drive to use files\n",
    "from google.colab import drive\n",
    "drive.mount('/content/gdrive')"
   ]
  },
  {
   "cell_type": "code",
   "execution_count": 4,
   "metadata": {
    "executionInfo": {
     "elapsed": 15,
     "status": "ok",
     "timestamp": 1668520438154,
     "user": {
      "displayName": "ilaria enache",
      "userId": "11897907361892988235"
     },
     "user_tz": -60
    },
    "id": "BkUIwhklhXFd"
   },
   "outputs": [],
   "source": [
    "# Given a variable byte containing the bytes of an image, returns an array representing the image\n",
    "def byte2image(byte):\n",
    "  jpeg = b64decode(byte.split(',')[1])\n",
    "  im = Image.open(io.BytesIO(jpeg))\n",
    "  return np.array(im)"
   ]
  },
  {
   "cell_type": "code",
   "execution_count": 5,
   "metadata": {
    "executionInfo": {
     "elapsed": 14,
     "status": "ok",
     "timestamp": 1668520438154,
     "user": {
      "displayName": "ilaria enache",
      "userId": "11897907361892988235"
     },
     "user_tz": -60
    },
    "id": "KPKzJE5JhbNA"
   },
   "outputs": [],
   "source": [
    "#Given an array representing an image, returns the byte associated with the image\n",
    "def image2byte(image):\n",
    "  image = Image.fromarray(image)\n",
    "  buffer = io.BytesIO()\n",
    "  image.save(buffer, 'jpeg')\n",
    "  buffer.seek(0)\n",
    "  x = b64encode(buffer.read()).decode('utf-8')\n",
    "  return x"
   ]
  },
  {
   "cell_type": "code",
   "execution_count": 6,
   "metadata": {
    "executionInfo": {
     "elapsed": 14,
     "status": "ok",
     "timestamp": 1668520438154,
     "user": {
      "displayName": "ilaria enache",
      "userId": "11897907361892988235"
     },
     "user_tz": -60
    },
    "id": "fNXv4eRUhgdd"
   },
   "outputs": [],
   "source": [
    "def detect(img, cascade):\n",
    "  # rects represent the coordinates of the rectangles containing different objects\n",
    "  rects = cascade.detectMultiScale(img, scaleFactor=1.3, minNeighbors=4, minSize=(30, 30), flags=cv2.CASCADE_SCALE_IMAGE)\n",
    "  if len(rects) == 0: # if no rectangles are found, return the empty list\n",
    "    return []  \n",
    "  rects[:,2:] += rects[:,:2] #(x1,y1,x2,y2) we have the top left and bottom right corners of the rectangle\n",
    "\n",
    "  return rects"
   ]
  },
  {
   "cell_type": "code",
   "execution_count": 7,
   "metadata": {
    "executionInfo": {
     "elapsed": 14,
     "status": "ok",
     "timestamp": 1668520438154,
     "user": {
      "displayName": "ilaria enache",
      "userId": "11897907361892988235"
     },
     "user_tz": -60
    },
    "id": "HuxiiONahnI0"
   },
   "outputs": [],
   "source": [
    "#draw the rects on the video\n",
    "def draw_rects(img, rects, color, size=2):\n",
    "  for x1, y1, x2, y2 in rects:\n",
    "    cv2.rectangle(img, (x1, y1), (x2, y2), color, size)"
   ]
  },
  {
   "cell_type": "markdown",
   "metadata": {
    "id": "WlcqRbNlL0aq"
   },
   "source": [
    "# **Task 1** \n",
    "\n",
    "In this first task, I identified the face using a Haarcascade over a converted grayscale image. \n",
    "I used a gray image as they have less information to process, improving speed and efficiency compared to detection over a colored image. \n",
    "\n",
    "The region of interest is then identified and drawn with the coordinates identified in the detect function. \n",
    "It is important to note that the image is defined from the top left at 0 ,0 to the bottom right.\n",
    "\n"
   ]
  },
  {
   "cell_type": "code",
   "execution_count": 8,
   "metadata": {
    "colab": {
     "base_uri": "https://localhost:8080/",
     "height": 1000
    },
    "executionInfo": {
     "elapsed": 30783,
     "status": "error",
     "timestamp": 1668520468924,
     "user": {
      "displayName": "ilaria enache",
      "userId": "11897907361892988235"
     },
     "user_tz": -60
    },
    "id": "hB4HjHqWtgQQ",
    "outputId": "476f0017-851d-47fc-88d1-c3e0642e93de"
   },
   "outputs": [
    {
     "data": {
      "application/javascript": [
       "\n",
       "    // the function 'create' creates the \"box\" that contains the videostream\n",
       "    // async functions return a promise, they make the code look synchronous, but it's asynchronous and non-blocking behind the scenes\n",
       "    async function create(){ \n",
       "      div = document.createElement('div');\n",
       "      document.body.appendChild(div);\n",
       "\n",
       "      video = document.createElement('video');\n",
       "      video.setAttribute('playsinline', '');\n",
       "\n",
       "      div.appendChild(video);\n",
       "      // await is used to call functions, the calling code will stop until the promise is resolved or rejected\n",
       "      stream = await navigator.mediaDevices.getUserMedia({video: {facingMode: \"environment\"}});\n",
       "      video.srcObject = stream;\n",
       "\n",
       "      // await is used to call functions, here we call the video.play() function\n",
       "      await video.play();\n",
       "\n",
       "      canvas =  document.createElement('canvas');\n",
       "      canvas.width = video.videoWidth;\n",
       "      canvas.height = video.videoHeight;\n",
       "      canvas.getContext('2d').drawImage(video, 0, 0);\n",
       "\n",
       "      div_out = document.createElement('div');\n",
       "      document.body.appendChild(div_out);\n",
       "      img = document.createElement('img');\n",
       "      div_out.appendChild(img);\n",
       "    }\n",
       "\n",
       "    //  \n",
       "    async function capture(){\n",
       "        return await new Promise(function(resolve, reject){\n",
       "            pendingResolve = resolve;\n",
       "            canvas.getContext('2d').drawImage(video, 0, 0);\n",
       "            result = canvas.toDataURL('image/jpeg', 0.80);\n",
       "\n",
       "            pendingResolve(result);\n",
       "        })\n",
       "    }\n",
       "\n",
       "    function showimg(imgb64){\n",
       "        img.src = \"data:image/jpg;base64,\" + imgb64;\n",
       "    }\n",
       "\n",
       "  "
      ],
      "text/plain": [
       "<IPython.core.display.Javascript object>"
      ]
     },
     "metadata": {},
     "output_type": "display_data"
    },
    {
     "ename": "KeyboardInterrupt",
     "evalue": "ignored",
     "output_type": "error",
     "traceback": [
      "\u001b[0;31m---------------------------------------------------------------------------\u001b[0m",
      "\u001b[0;31mKeyboardInterrupt\u001b[0m                         Traceback (most recent call last)",
      "\u001b[0;32m<ipython-input-8-54b610acd1b4>\u001b[0m in \u001b[0;36m<module>\u001b[0;34m\u001b[0m\n\u001b[1;32m     26\u001b[0m   \u001b[0me3\u001b[0m \u001b[0;34m=\u001b[0m \u001b[0mcv2\u001b[0m\u001b[0;34m.\u001b[0m\u001b[0mgetTickCount\u001b[0m\u001b[0;34m(\u001b[0m\u001b[0;34m)\u001b[0m\u001b[0;34m\u001b[0m\u001b[0;34m\u001b[0m\u001b[0m\n\u001b[1;32m     27\u001b[0m \u001b[0;34m\u001b[0m\u001b[0m\n\u001b[0;32m---> 28\u001b[0;31m   \u001b[0meval_js\u001b[0m\u001b[0;34m(\u001b[0m\u001b[0;34m'showimg(\"{}\")'\u001b[0m\u001b[0;34m.\u001b[0m\u001b[0mformat\u001b[0m\u001b[0;34m(\u001b[0m\u001b[0mimage2byte\u001b[0m\u001b[0;34m(\u001b[0m\u001b[0mim\u001b[0m\u001b[0;34m)\u001b[0m\u001b[0;34m)\u001b[0m\u001b[0;34m)\u001b[0m\u001b[0;34m\u001b[0m\u001b[0;34m\u001b[0m\u001b[0m\n\u001b[0m",
      "\u001b[0;32m/usr/local/lib/python3.7/dist-packages/google/colab/output/_js.py\u001b[0m in \u001b[0;36meval_js\u001b[0;34m(script, ignore_result, timeout_sec)\u001b[0m\n\u001b[1;32m     38\u001b[0m   \u001b[0;32mif\u001b[0m \u001b[0mignore_result\u001b[0m\u001b[0;34m:\u001b[0m\u001b[0;34m\u001b[0m\u001b[0;34m\u001b[0m\u001b[0m\n\u001b[1;32m     39\u001b[0m     \u001b[0;32mreturn\u001b[0m\u001b[0;34m\u001b[0m\u001b[0;34m\u001b[0m\u001b[0m\n\u001b[0;32m---> 40\u001b[0;31m   \u001b[0;32mreturn\u001b[0m \u001b[0m_message\u001b[0m\u001b[0;34m.\u001b[0m\u001b[0mread_reply_from_input\u001b[0m\u001b[0;34m(\u001b[0m\u001b[0mrequest_id\u001b[0m\u001b[0;34m,\u001b[0m \u001b[0mtimeout_sec\u001b[0m\u001b[0;34m)\u001b[0m\u001b[0;34m\u001b[0m\u001b[0;34m\u001b[0m\u001b[0m\n\u001b[0m\u001b[1;32m     41\u001b[0m \u001b[0;34m\u001b[0m\u001b[0m\n\u001b[1;32m     42\u001b[0m \u001b[0;34m\u001b[0m\u001b[0m\n",
      "\u001b[0;32m/usr/local/lib/python3.7/dist-packages/google/colab/_message.py\u001b[0m in \u001b[0;36mread_reply_from_input\u001b[0;34m(message_id, timeout_sec)\u001b[0m\n\u001b[1;32m     95\u001b[0m     \u001b[0mreply\u001b[0m \u001b[0;34m=\u001b[0m \u001b[0m_read_next_input_message\u001b[0m\u001b[0;34m(\u001b[0m\u001b[0;34m)\u001b[0m\u001b[0;34m\u001b[0m\u001b[0;34m\u001b[0m\u001b[0m\n\u001b[1;32m     96\u001b[0m     \u001b[0;32mif\u001b[0m \u001b[0mreply\u001b[0m \u001b[0;34m==\u001b[0m \u001b[0m_NOT_READY\u001b[0m \u001b[0;32mor\u001b[0m \u001b[0;32mnot\u001b[0m \u001b[0misinstance\u001b[0m\u001b[0;34m(\u001b[0m\u001b[0mreply\u001b[0m\u001b[0;34m,\u001b[0m \u001b[0mdict\u001b[0m\u001b[0;34m)\u001b[0m\u001b[0;34m:\u001b[0m\u001b[0;34m\u001b[0m\u001b[0;34m\u001b[0m\u001b[0m\n\u001b[0;32m---> 97\u001b[0;31m       \u001b[0mtime\u001b[0m\u001b[0;34m.\u001b[0m\u001b[0msleep\u001b[0m\u001b[0;34m(\u001b[0m\u001b[0;36m0.025\u001b[0m\u001b[0;34m)\u001b[0m\u001b[0;34m\u001b[0m\u001b[0;34m\u001b[0m\u001b[0m\n\u001b[0m\u001b[1;32m     98\u001b[0m       \u001b[0;32mcontinue\u001b[0m\u001b[0;34m\u001b[0m\u001b[0;34m\u001b[0m\u001b[0m\n\u001b[1;32m     99\u001b[0m     if (reply.get('type') == 'colab_reply' and\n",
      "\u001b[0;31mKeyboardInterrupt\u001b[0m: "
     ]
    }
   ],
   "source": [
    "# detect face and eyes using the Haar Feature-based Cascade Classifiers\n",
    "\n",
    "VideoCapture() #starts the VideoCapture function\n",
    "eval_js('create()') #utilizes the given JS code\n",
    "\n",
    "image_max_width = 640\n",
    "image_max_height = 480\n",
    "\n",
    "#application of the Haarcascade for object detection faces\n",
    "CascadeFace = cv2.CascadeClassifier(cv2.data.haarcascades + 'haarcascade_frontalface_default.xml')\n",
    "\n",
    "while True:\n",
    "  e1 = cv2.getTickCount()\n",
    "\n",
    "  byte = eval_js('capture()')\n",
    "  im = byte2image(byte)  \n",
    "\n",
    "  gray = cv2.cvtColor(im, cv2.COLOR_RGB2GRAY) # converting the image into GRAY reduces the color channels of the image to grayscale and improves computation speed \n",
    "  \n",
    "  face = detect(gray, cascade = CascadeFace) # # applies the Haar face cascade to detect the face int he gray image \n",
    "  draw_rects(im, face, (0, 0, 0)) # calls the draw function to draw a rectangle around the face\n",
    "\n",
    "  e2 = cv2.getTickCount()\n",
    "  face_time = e2-e1  # - CONVERT INTO SECONDS\n",
    "  #print(\"the number of clock-cycles to detect the face is :\", face_time)\n",
    "  e3 = cv2.getTickCount()\n",
    "\n",
    "  eval_js('showimg(\"{}\")'.format(image2byte(im)))"
   ]
  },
  {
   "cell_type": "markdown",
   "metadata": {
    "id": "Oo2UU3WdL5R1"
   },
   "source": [
    "# **Task 2**"
   ]
  },
  {
   "cell_type": "code",
   "execution_count": 9,
   "metadata": {
    "executionInfo": {
     "elapsed": 262,
     "status": "ok",
     "timestamp": 1668520472739,
     "user": {
      "displayName": "ilaria enache",
      "userId": "11897907361892988235"
     },
     "user_tz": -60
    },
    "id": "nG28ZofEyn9x"
   },
   "outputs": [],
   "source": [
    "#function to compute the bigger rectangle we are going to use as region of interest\n",
    "def compute_big_rect(rect): #[x1,y1,x2,y2]\n",
    "\n",
    "  rect[0]=max(0,rect[0]-margin)\n",
    "  rect[1]=max(0,rect[1]-margin)\n",
    "  rect[2]=min(rect[2]+margin,image_max_width)\n",
    "  rect[3]=min(rect[3]+margin,image_max_height)\n",
    "  \n",
    "  return rect"
   ]
  },
  {
   "cell_type": "code",
   "execution_count": 10,
   "metadata": {
    "colab": {
     "base_uri": "https://localhost:8080/",
     "height": 1000
    },
    "executionInfo": {
     "elapsed": 4272,
     "status": "error",
     "timestamp": 1668520478722,
     "user": {
      "displayName": "ilaria enache",
      "userId": "11897907361892988235"
     },
     "user_tz": -60
    },
    "id": "vjtsaSqtPXwU",
    "outputId": "dd0870e6-f37c-4698-a4d7-8549137f78b6"
   },
   "outputs": [
    {
     "data": {
      "application/javascript": [
       "\n",
       "    // the function 'create' creates the \"box\" that contains the videostream\n",
       "    // async functions return a promise, they make the code look synchronous, but it's asynchronous and non-blocking behind the scenes\n",
       "    async function create(){ \n",
       "      div = document.createElement('div');\n",
       "      document.body.appendChild(div);\n",
       "\n",
       "      video = document.createElement('video');\n",
       "      video.setAttribute('playsinline', '');\n",
       "\n",
       "      div.appendChild(video);\n",
       "      // await is used to call functions, the calling code will stop until the promise is resolved or rejected\n",
       "      stream = await navigator.mediaDevices.getUserMedia({video: {facingMode: \"environment\"}});\n",
       "      video.srcObject = stream;\n",
       "\n",
       "      // await is used to call functions, here we call the video.play() function\n",
       "      await video.play();\n",
       "\n",
       "      canvas =  document.createElement('canvas');\n",
       "      canvas.width = video.videoWidth;\n",
       "      canvas.height = video.videoHeight;\n",
       "      canvas.getContext('2d').drawImage(video, 0, 0);\n",
       "\n",
       "      div_out = document.createElement('div');\n",
       "      document.body.appendChild(div_out);\n",
       "      img = document.createElement('img');\n",
       "      div_out.appendChild(img);\n",
       "    }\n",
       "\n",
       "    //  \n",
       "    async function capture(){\n",
       "        return await new Promise(function(resolve, reject){\n",
       "            pendingResolve = resolve;\n",
       "            canvas.getContext('2d').drawImage(video, 0, 0);\n",
       "            result = canvas.toDataURL('image/jpeg', 0.80);\n",
       "\n",
       "            pendingResolve(result);\n",
       "        })\n",
       "    }\n",
       "\n",
       "    function showimg(imgb64){\n",
       "        img.src = \"data:image/jpg;base64,\" + imgb64;\n",
       "    }\n",
       "\n",
       "  "
      ],
      "text/plain": [
       "<IPython.core.display.Javascript object>"
      ]
     },
     "metadata": {},
     "output_type": "display_data"
    },
    {
     "ename": "KeyboardInterrupt",
     "evalue": "ignored",
     "output_type": "error",
     "traceback": [
      "\u001b[0;31m---------------------------------------------------------------------------\u001b[0m",
      "\u001b[0;31mKeyboardInterrupt\u001b[0m                         Traceback (most recent call last)",
      "\u001b[0;32m<ipython-input-10-11c4ed945229>\u001b[0m in \u001b[0;36m<module>\u001b[0;34m\u001b[0m\n\u001b[1;32m     31\u001b[0m   \u001b[0;32mwhile\u001b[0m \u001b[0misDetection\u001b[0m\u001b[0;34m:\u001b[0m\u001b[0;34m\u001b[0m\u001b[0;34m\u001b[0m\u001b[0m\n\u001b[1;32m     32\u001b[0m     \u001b[0me3\u001b[0m \u001b[0;34m=\u001b[0m\u001b[0mcv2\u001b[0m\u001b[0;34m.\u001b[0m\u001b[0mgetTickCount\u001b[0m\u001b[0;34m(\u001b[0m\u001b[0;34m)\u001b[0m\u001b[0;34m\u001b[0m\u001b[0;34m\u001b[0m\u001b[0m\n\u001b[0;32m---> 33\u001b[0;31m     \u001b[0mbyte\u001b[0m \u001b[0;34m=\u001b[0m \u001b[0meval_js\u001b[0m\u001b[0;34m(\u001b[0m\u001b[0;34m'capture()'\u001b[0m\u001b[0;34m)\u001b[0m\u001b[0;34m\u001b[0m\u001b[0;34m\u001b[0m\u001b[0m\n\u001b[0m\u001b[1;32m     34\u001b[0m     \u001b[0mim\u001b[0m \u001b[0;34m=\u001b[0m \u001b[0mbyte2image\u001b[0m\u001b[0;34m(\u001b[0m\u001b[0mbyte\u001b[0m\u001b[0;34m)\u001b[0m\u001b[0;34m\u001b[0m\u001b[0;34m\u001b[0m\u001b[0m\n\u001b[1;32m     35\u001b[0m     \u001b[0mgray\u001b[0m \u001b[0;34m=\u001b[0m \u001b[0mcv2\u001b[0m\u001b[0;34m.\u001b[0m\u001b[0mcvtColor\u001b[0m\u001b[0;34m(\u001b[0m\u001b[0mim\u001b[0m\u001b[0;34m,\u001b[0m \u001b[0mcv2\u001b[0m\u001b[0;34m.\u001b[0m\u001b[0mCOLOR_RGB2GRAY\u001b[0m\u001b[0;34m)\u001b[0m\u001b[0;34m\u001b[0m\u001b[0;34m\u001b[0m\u001b[0m\n",
      "\u001b[0;32m/usr/local/lib/python3.7/dist-packages/google/colab/output/_js.py\u001b[0m in \u001b[0;36meval_js\u001b[0;34m(script, ignore_result, timeout_sec)\u001b[0m\n\u001b[1;32m     38\u001b[0m   \u001b[0;32mif\u001b[0m \u001b[0mignore_result\u001b[0m\u001b[0;34m:\u001b[0m\u001b[0;34m\u001b[0m\u001b[0;34m\u001b[0m\u001b[0m\n\u001b[1;32m     39\u001b[0m     \u001b[0;32mreturn\u001b[0m\u001b[0;34m\u001b[0m\u001b[0;34m\u001b[0m\u001b[0m\n\u001b[0;32m---> 40\u001b[0;31m   \u001b[0;32mreturn\u001b[0m \u001b[0m_message\u001b[0m\u001b[0;34m.\u001b[0m\u001b[0mread_reply_from_input\u001b[0m\u001b[0;34m(\u001b[0m\u001b[0mrequest_id\u001b[0m\u001b[0;34m,\u001b[0m \u001b[0mtimeout_sec\u001b[0m\u001b[0;34m)\u001b[0m\u001b[0;34m\u001b[0m\u001b[0;34m\u001b[0m\u001b[0m\n\u001b[0m\u001b[1;32m     41\u001b[0m \u001b[0;34m\u001b[0m\u001b[0m\n\u001b[1;32m     42\u001b[0m \u001b[0;34m\u001b[0m\u001b[0m\n",
      "\u001b[0;32m/usr/local/lib/python3.7/dist-packages/google/colab/_message.py\u001b[0m in \u001b[0;36mread_reply_from_input\u001b[0;34m(message_id, timeout_sec)\u001b[0m\n\u001b[1;32m     95\u001b[0m     \u001b[0mreply\u001b[0m \u001b[0;34m=\u001b[0m \u001b[0m_read_next_input_message\u001b[0m\u001b[0;34m(\u001b[0m\u001b[0;34m)\u001b[0m\u001b[0;34m\u001b[0m\u001b[0;34m\u001b[0m\u001b[0m\n\u001b[1;32m     96\u001b[0m     \u001b[0;32mif\u001b[0m \u001b[0mreply\u001b[0m \u001b[0;34m==\u001b[0m \u001b[0m_NOT_READY\u001b[0m \u001b[0;32mor\u001b[0m \u001b[0;32mnot\u001b[0m \u001b[0misinstance\u001b[0m\u001b[0;34m(\u001b[0m\u001b[0mreply\u001b[0m\u001b[0;34m,\u001b[0m \u001b[0mdict\u001b[0m\u001b[0;34m)\u001b[0m\u001b[0;34m:\u001b[0m\u001b[0;34m\u001b[0m\u001b[0;34m\u001b[0m\u001b[0m\n\u001b[0;32m---> 97\u001b[0;31m       \u001b[0mtime\u001b[0m\u001b[0;34m.\u001b[0m\u001b[0msleep\u001b[0m\u001b[0;34m(\u001b[0m\u001b[0;36m0.025\u001b[0m\u001b[0;34m)\u001b[0m\u001b[0;34m\u001b[0m\u001b[0;34m\u001b[0m\u001b[0m\n\u001b[0m\u001b[1;32m     98\u001b[0m       \u001b[0;32mcontinue\u001b[0m\u001b[0;34m\u001b[0m\u001b[0;34m\u001b[0m\u001b[0m\n\u001b[1;32m     99\u001b[0m     if (reply.get('type') == 'colab_reply' and\n",
      "\u001b[0;31mKeyboardInterrupt\u001b[0m: "
     ]
    }
   ],
   "source": [
    "# reduce the computation time of Facedetect\n",
    "\n",
    "VideoCapture()\n",
    "eval_js('create()')\n",
    "\n",
    "#application of the Haarcascade for object detection faces\n",
    "CascadeFace = cv2.CascadeClassifier(cv2.data.haarcascades + 'haarcascade_frontalface_default.xml')\n",
    "\n",
    "margin = 60\n",
    "while True:\n",
    "  bigrect=[]\n",
    "  e1 = cv2.getTickCount()\n",
    "  byte = eval_js('capture()')\n",
    "  im = byte2image(byte)\n",
    "  gray = cv2.cvtColor(im, cv2.COLOR_RGB2GRAY) # convert the image into GRAY\n",
    "  face = detect(gray, cascade = CascadeFace) # face contains the rectangle\n",
    "  #draw_rects(im, face, (0, 0, 0)) # draw the rectangle\n",
    "  e2 = cv2.getTickCount()\n",
    "  isDetection=False\n",
    "\n",
    "  if len(face)==0:\n",
    "    isFaceDetect=False\n",
    "  else:\n",
    "    isFaceDetect=True\n",
    "\n",
    "  if len(bigrect)==0 and isFaceDetect:\n",
    "    bigrect.append(compute_big_rect(face[0]))\n",
    "    isDetection=True\n",
    "\n",
    "  #this should be the new main cycle instead of the for cycle\n",
    "  while isDetection:\n",
    "    e3 =cv2.getTickCount()\n",
    "    byte = eval_js('capture()')\n",
    "    im = byte2image(byte)\n",
    "    gray = cv2.cvtColor(im, cv2.COLOR_RGB2GRAY)\n",
    "\n",
    "    roi=gray[bigrect[0][1]:bigrect[0][3], bigrect[0][0]:bigrect[0][2]]\n",
    "    roi_color=im[bigrect[0][1]:bigrect[0][3], bigrect[0][0]:bigrect[0][2]]\n",
    "    newface=detect(roi, cascade = CascadeFace) \n",
    "    \n",
    "    draw_rects(im,bigrect, (0,0,0))\n",
    "    draw_rects(roi_color,newface, (153, 255, 255))\n",
    "    e4 = cv2.getTickCount()\n",
    "\n",
    "    if len(newface)>0:\n",
    "      eval_js('showimg(\"{}\")'.format(image2byte(im)))\n",
    "    else:\n",
    "      isDetection=False\n",
    "      bigrect=[]\n",
    "      isFace=False\n",
    "      "
   ]
  },
  {
   "cell_type": "markdown",
   "metadata": {
    "id": "6iBNavzeDhYF"
   },
   "source": [
    "# **Task 3**\n",
    "\n",
    "For the third task I am going to use facedetect once to get the face and compute the region of interest. I am then switching to camshift to calculate the hystogram of the face. The algoritmh then calculates on the window where its the most probable to get a face and searches in the region of interest where is the face that has the same distribution.\n"
   ]
  },
  {
   "cell_type": "code",
   "execution_count": 11,
   "metadata": {
    "executionInfo": {
     "elapsed": 202,
     "status": "ok",
     "timestamp": 1668520483129,
     "user": {
      "displayName": "ilaria enache",
      "userId": "11897907361892988235"
     },
     "user_tz": -60
    },
    "id": "LvZcMA2EeThD"
   },
   "outputs": [],
   "source": [
    "def compute_big_rect2(rect): #[x1,y1,x2,y2]\n",
    "\n",
    "  x1=max(0,rect[0]-margin)\n",
    "  y1=max(0,rect[1]-margin)\n",
    "  x2=min(rect[2]+margin,image_max_width)\n",
    "  y2=min(rect[3]+margin,image_max_height)\n",
    "  \n",
    "  return [x1,y1,x2,y2]"
   ]
  },
  {
   "cell_type": "code",
   "execution_count": 12,
   "metadata": {
    "colab": {
     "base_uri": "https://localhost:8080/",
     "height": 1000
    },
    "executionInfo": {
     "elapsed": 8665,
     "status": "error",
     "timestamp": 1668520492766,
     "user": {
      "displayName": "ilaria enache",
      "userId": "11897907361892988235"
     },
     "user_tz": -60
    },
    "id": "NxIWGagQoqpL",
    "outputId": "b0aa62db-c673-485f-db60-3b81a8aa8e7d"
   },
   "outputs": [
    {
     "data": {
      "application/javascript": [
       "\n",
       "    // the function 'create' creates the \"box\" that contains the videostream\n",
       "    // async functions return a promise, they make the code look synchronous, but it's asynchronous and non-blocking behind the scenes\n",
       "    async function create(){ \n",
       "      div = document.createElement('div');\n",
       "      document.body.appendChild(div);\n",
       "\n",
       "      video = document.createElement('video');\n",
       "      video.setAttribute('playsinline', '');\n",
       "\n",
       "      div.appendChild(video);\n",
       "      // await is used to call functions, the calling code will stop until the promise is resolved or rejected\n",
       "      stream = await navigator.mediaDevices.getUserMedia({video: {facingMode: \"environment\"}});\n",
       "      video.srcObject = stream;\n",
       "\n",
       "      // await is used to call functions, here we call the video.play() function\n",
       "      await video.play();\n",
       "\n",
       "      canvas =  document.createElement('canvas');\n",
       "      canvas.width = video.videoWidth;\n",
       "      canvas.height = video.videoHeight;\n",
       "      canvas.getContext('2d').drawImage(video, 0, 0);\n",
       "\n",
       "      div_out = document.createElement('div');\n",
       "      document.body.appendChild(div_out);\n",
       "      img = document.createElement('img');\n",
       "      div_out.appendChild(img);\n",
       "    }\n",
       "\n",
       "    //  \n",
       "    async function capture(){\n",
       "        return await new Promise(function(resolve, reject){\n",
       "            pendingResolve = resolve;\n",
       "            canvas.getContext('2d').drawImage(video, 0, 0);\n",
       "            result = canvas.toDataURL('image/jpeg', 0.80);\n",
       "\n",
       "            pendingResolve(result);\n",
       "        })\n",
       "    }\n",
       "\n",
       "    function showimg(imgb64){\n",
       "        img.src = \"data:image/jpg;base64,\" + imgb64;\n",
       "    }\n",
       "\n",
       "  "
      ],
      "text/plain": [
       "<IPython.core.display.Javascript object>"
      ]
     },
     "metadata": {},
     "output_type": "display_data"
    },
    {
     "data": {
      "image/png": "[encoded data removed]",
      "text/plain": [
       "<Figure size 432x288 with 1 Axes>"
      ]
     },
     "metadata": {
      "needs_background": "light"
     },
     "output_type": "display_data"
    },
    {
     "ename": "KeyboardInterrupt",
     "evalue": "ignored",
     "output_type": "error",
     "traceback": [
      "\u001b[0;31m---------------------------------------------------------------------------\u001b[0m",
      "\u001b[0;31mKeyboardInterrupt\u001b[0m                         Traceback (most recent call last)",
      "\u001b[0;32m<ipython-input-12-08042f9a0a49>\u001b[0m in \u001b[0;36m<module>\u001b[0;34m\u001b[0m\n\u001b[1;32m     33\u001b[0m \u001b[0;34m\u001b[0m\u001b[0m\n\u001b[1;32m     34\u001b[0m \u001b[0;32mwhile\u001b[0m \u001b[0misDetection\u001b[0m\u001b[0;34m:\u001b[0m\u001b[0;34m\u001b[0m\u001b[0;34m\u001b[0m\u001b[0m\n\u001b[0;32m---> 35\u001b[0;31m   \u001b[0mbyte\u001b[0m \u001b[0;34m=\u001b[0m \u001b[0meval_js\u001b[0m\u001b[0;34m(\u001b[0m\u001b[0;34m'capture()'\u001b[0m\u001b[0;34m)\u001b[0m\u001b[0;34m\u001b[0m\u001b[0;34m\u001b[0m\u001b[0m\n\u001b[0m\u001b[1;32m     36\u001b[0m   \u001b[0mim\u001b[0m \u001b[0;34m=\u001b[0m \u001b[0mbyte2image\u001b[0m\u001b[0;34m(\u001b[0m\u001b[0mbyte\u001b[0m\u001b[0;34m)\u001b[0m\u001b[0;34m\u001b[0m\u001b[0;34m\u001b[0m\u001b[0m\n\u001b[1;32m     37\u001b[0m   \u001b[0mgray\u001b[0m \u001b[0;34m=\u001b[0m \u001b[0mcv2\u001b[0m\u001b[0;34m.\u001b[0m\u001b[0mcvtColor\u001b[0m\u001b[0;34m(\u001b[0m\u001b[0mim\u001b[0m\u001b[0;34m,\u001b[0m \u001b[0mcv2\u001b[0m\u001b[0;34m.\u001b[0m\u001b[0mCOLOR_RGB2GRAY\u001b[0m\u001b[0;34m)\u001b[0m \u001b[0;31m# convert the image into GRAY\u001b[0m\u001b[0;34m\u001b[0m\u001b[0;34m\u001b[0m\u001b[0m\n",
      "\u001b[0;32m/usr/local/lib/python3.7/dist-packages/google/colab/output/_js.py\u001b[0m in \u001b[0;36meval_js\u001b[0;34m(script, ignore_result, timeout_sec)\u001b[0m\n\u001b[1;32m     38\u001b[0m   \u001b[0;32mif\u001b[0m \u001b[0mignore_result\u001b[0m\u001b[0;34m:\u001b[0m\u001b[0;34m\u001b[0m\u001b[0;34m\u001b[0m\u001b[0m\n\u001b[1;32m     39\u001b[0m     \u001b[0;32mreturn\u001b[0m\u001b[0;34m\u001b[0m\u001b[0;34m\u001b[0m\u001b[0m\n\u001b[0;32m---> 40\u001b[0;31m   \u001b[0;32mreturn\u001b[0m \u001b[0m_message\u001b[0m\u001b[0;34m.\u001b[0m\u001b[0mread_reply_from_input\u001b[0m\u001b[0;34m(\u001b[0m\u001b[0mrequest_id\u001b[0m\u001b[0;34m,\u001b[0m \u001b[0mtimeout_sec\u001b[0m\u001b[0;34m)\u001b[0m\u001b[0;34m\u001b[0m\u001b[0;34m\u001b[0m\u001b[0m\n\u001b[0m\u001b[1;32m     41\u001b[0m \u001b[0;34m\u001b[0m\u001b[0m\n\u001b[1;32m     42\u001b[0m \u001b[0;34m\u001b[0m\u001b[0m\n",
      "\u001b[0;32m/usr/local/lib/python3.7/dist-packages/google/colab/_message.py\u001b[0m in \u001b[0;36mread_reply_from_input\u001b[0;34m(message_id, timeout_sec)\u001b[0m\n\u001b[1;32m     95\u001b[0m     \u001b[0mreply\u001b[0m \u001b[0;34m=\u001b[0m \u001b[0m_read_next_input_message\u001b[0m\u001b[0;34m(\u001b[0m\u001b[0;34m)\u001b[0m\u001b[0;34m\u001b[0m\u001b[0;34m\u001b[0m\u001b[0m\n\u001b[1;32m     96\u001b[0m     \u001b[0;32mif\u001b[0m \u001b[0mreply\u001b[0m \u001b[0;34m==\u001b[0m \u001b[0m_NOT_READY\u001b[0m \u001b[0;32mor\u001b[0m \u001b[0;32mnot\u001b[0m \u001b[0misinstance\u001b[0m\u001b[0;34m(\u001b[0m\u001b[0mreply\u001b[0m\u001b[0;34m,\u001b[0m \u001b[0mdict\u001b[0m\u001b[0;34m)\u001b[0m\u001b[0;34m:\u001b[0m\u001b[0;34m\u001b[0m\u001b[0;34m\u001b[0m\u001b[0m\n\u001b[0;32m---> 97\u001b[0;31m       \u001b[0mtime\u001b[0m\u001b[0;34m.\u001b[0m\u001b[0msleep\u001b[0m\u001b[0;34m(\u001b[0m\u001b[0;36m0.025\u001b[0m\u001b[0;34m)\u001b[0m\u001b[0;34m\u001b[0m\u001b[0;34m\u001b[0m\u001b[0m\n\u001b[0m\u001b[1;32m     98\u001b[0m       \u001b[0;32mcontinue\u001b[0m\u001b[0;34m\u001b[0m\u001b[0;34m\u001b[0m\u001b[0m\n\u001b[1;32m     99\u001b[0m     if (reply.get('type') == 'colab_reply' and\n",
      "\u001b[0;31mKeyboardInterrupt\u001b[0m: "
     ]
    }
   ],
   "source": [
    "#task 3 \n",
    "VideoCapture()\n",
    "eval_js('create()')\n",
    "\n",
    "CascadeFace = cv2.CascadeClassifier(cv2.data.haarcascades + 'haarcascade_frontalface_default.xml')\n",
    "\n",
    "isFaceDetect=False\n",
    "margin = 30\n",
    "\n",
    "while not isFaceDetect:\n",
    "  bigrect=[]\n",
    "  byte = eval_js('capture()')\n",
    "  im = byte2image(byte)\n",
    "  gray = cv2.cvtColor(im, cv2.COLOR_RGB2GRAY) # convert the image into GRAY\n",
    "  face = detect(gray, cascade = CascadeFace) # face contains the rectangle\n",
    "  hsv =  cv2.cvtColor(im, cv2.COLOR_RGB2HSV) # convert image to HSV\n",
    "  \n",
    "  #control if a face has been detected\n",
    "  if len(face)==0: \n",
    "    isFaceDetect=False\n",
    "  else:\n",
    "    isFaceDetect=True\n",
    "    \n",
    "  if len(bigrect)==0 and isFaceDetect: # if bigrect is empty and a face is found\n",
    "    hsv_roi=hsv[face[0][1]:face[0][3], face[0][0]:face[0][2]]\n",
    "    bigrect.append(compute_big_rect2(face[0])) # compute bigrect and add it to the list\n",
    "  \n",
    "    isDetection=True # set a flag to start camshift\n",
    "    gray_roi = gray[bigrect[0][1]:bigrect[0][3], bigrect[0][0]:bigrect[0][2]] # compute the region of interest\n",
    "    hist=cv2.calcHist([hsv_roi], [0], None, [180], [0,180]) # compute the histogram\n",
    "    plt.hist(gray_roi.ravel(),256,[0,256]) # show the histogram\n",
    "    plt.show()\n",
    "  \n",
    "while isDetection:\n",
    "  byte = eval_js('capture()')\n",
    "  im = byte2image(byte)\n",
    "  gray = cv2.cvtColor(im, cv2.COLOR_RGB2GRAY) # convert the image into GRAY\n",
    "  hsv =  cv2.cvtColor(im, cv2.COLOR_RGB2HSV) #convert image to color\n",
    "\n",
    "  track_window = (bigrect[0][0], bigrect[0][1], bigrect[0][2], bigrect[0][3]) # compute the region of interest (bigrect)\n",
    "  prob = cv2.calcBackProject([hsv], [0], hist, [0, 256], 1) # compute the probability matrix \n",
    "  term_crit = ( cv2.TERM_CRITERIA_EPS | cv2.TERM_CRITERIA_COUNT, 10, 1 )  # sets some criteria for camshift\n",
    "  track_box, track_window = cv2.CamShift(prob, track_window, term_crit) # perform camshift over the track_window\n",
    "\n",
    "  im[:] = prob[...,np.newaxis] # add probability matrix to the image\n",
    "\n",
    "  draw_rects(im, face, (255, 0, 255))\n",
    "  draw_rects(im, bigrect, (255, 0, 0), 4) # draw the rectangle\n",
    "\n",
    "  try:\n",
    "    cv2.ellipse(im, track_box, (0, 0, 255), 2) # draw the ellipse\n",
    "  except Exception as e:\n",
    "    print(e)\n",
    "    print(track_box)\n",
    "\n",
    "  eval_js('showimg(\"{}\")'.format(image2byte(im)))"
   ]
  },
  {
   "cell_type": "markdown",
   "metadata": {
    "id": "2XVP3HcA4Pug"
   },
   "source": [
    "# **Task 4**\n",
    "\n",
    "In the fourth task the goal is to remove the face so we can detect the hands. I am goin to remove the face from the probability map so the algorithm will look at the picture to find where there is a similar distribution of color as the face and it will find the hands."
   ]
  },
  {
   "cell_type": "code",
   "execution_count": 13,
   "metadata": {
    "executionInfo": {
     "elapsed": 1,
     "status": "ok",
     "timestamp": 1668520494621,
     "user": {
      "displayName": "ilaria enache",
      "userId": "11897907361892988235"
     },
     "user_tz": -60
    },
    "id": "659FH3DFcgum"
   },
   "outputs": [],
   "source": [
    "#implement\n",
    "def restrict(rect): #[x1,y1,x2,y2]\n",
    "\n",
    "  x1=min(image_max_width,rect[0]+restr)\n",
    "  y1=min(image_max_height,rect[1]+restr)\n",
    "  x2=max(rect[2]-restr,x1)\n",
    "  y2=max(rect[3]-restr,y1)\n",
    "  return [x1,y1,x2,y2]"
   ]
  },
  {
   "cell_type": "code",
   "execution_count": 14,
   "metadata": {
    "colab": {
     "base_uri": "https://localhost:8080/",
     "height": 1000
    },
    "executionInfo": {
     "elapsed": 19040,
     "status": "error",
     "timestamp": 1668520515290,
     "user": {
      "displayName": "ilaria enache",
      "userId": "11897907361892988235"
     },
     "user_tz": -60
    },
    "id": "nloz1W4sfY0m",
    "outputId": "7fe33d10-e7c5-4adc-cf8d-f6011f5fb981"
   },
   "outputs": [
    {
     "data": {
      "application/javascript": [
       "\n",
       "    // the function 'create' creates the \"box\" that contains the videostream\n",
       "    // async functions return a promise, they make the code look synchronous, but it's asynchronous and non-blocking behind the scenes\n",
       "    async function create(){ \n",
       "      div = document.createElement('div');\n",
       "      document.body.appendChild(div);\n",
       "\n",
       "      video = document.createElement('video');\n",
       "      video.setAttribute('playsinline', '');\n",
       "\n",
       "      div.appendChild(video);\n",
       "      // await is used to call functions, the calling code will stop until the promise is resolved or rejected\n",
       "      stream = await navigator.mediaDevices.getUserMedia({video: {facingMode: \"environment\"}});\n",
       "      video.srcObject = stream;\n",
       "\n",
       "      // await is used to call functions, here we call the video.play() function\n",
       "      await video.play();\n",
       "\n",
       "      canvas =  document.createElement('canvas');\n",
       "      canvas.width = video.videoWidth;\n",
       "      canvas.height = video.videoHeight;\n",
       "      canvas.getContext('2d').drawImage(video, 0, 0);\n",
       "\n",
       "      div_out = document.createElement('div');\n",
       "      document.body.appendChild(div_out);\n",
       "      img = document.createElement('img');\n",
       "      div_out.appendChild(img);\n",
       "    }\n",
       "\n",
       "    //  \n",
       "    async function capture(){\n",
       "        return await new Promise(function(resolve, reject){\n",
       "            pendingResolve = resolve;\n",
       "            canvas.getContext('2d').drawImage(video, 0, 0);\n",
       "            result = canvas.toDataURL('image/jpeg', 0.80);\n",
       "\n",
       "            pendingResolve(result);\n",
       "        })\n",
       "    }\n",
       "\n",
       "    function showimg(imgb64){\n",
       "        img.src = \"data:image/jpg;base64,\" + imgb64;\n",
       "    }\n",
       "\n",
       "  "
      ],
      "text/plain": [
       "<IPython.core.display.Javascript object>"
      ]
     },
     "metadata": {},
     "output_type": "display_data"
    },
    {
     "data": {
      "image/png": "[encoded data removed]",
      "text/plain": [
       "<Figure size 432x288 with 1 Axes>"
      ]
     },
     "metadata": {
      "needs_background": "light"
     },
     "output_type": "display_data"
    },
    {
     "ename": "KeyboardInterrupt",
     "evalue": "ignored",
     "output_type": "error",
     "traceback": [
      "\u001b[0;31m---------------------------------------------------------------------------\u001b[0m",
      "\u001b[0;31mKeyboardInterrupt\u001b[0m                         Traceback (most recent call last)",
      "\u001b[0;32m<ipython-input-14-ac341ccdd603>\u001b[0m in \u001b[0;36m<module>\u001b[0;34m\u001b[0m\n\u001b[1;32m     38\u001b[0m \u001b[0;34m\u001b[0m\u001b[0m\n\u001b[1;32m     39\u001b[0m \u001b[0;32mwhile\u001b[0m \u001b[0misDetection\u001b[0m\u001b[0;34m:\u001b[0m\u001b[0;34m\u001b[0m\u001b[0;34m\u001b[0m\u001b[0m\n\u001b[0;32m---> 40\u001b[0;31m   \u001b[0mbyte\u001b[0m \u001b[0;34m=\u001b[0m \u001b[0meval_js\u001b[0m\u001b[0;34m(\u001b[0m\u001b[0;34m'capture()'\u001b[0m\u001b[0;34m)\u001b[0m\u001b[0;34m\u001b[0m\u001b[0;34m\u001b[0m\u001b[0m\n\u001b[0m\u001b[1;32m     41\u001b[0m   \u001b[0mim\u001b[0m \u001b[0;34m=\u001b[0m \u001b[0mbyte2image\u001b[0m\u001b[0;34m(\u001b[0m\u001b[0mbyte\u001b[0m\u001b[0;34m)\u001b[0m\u001b[0;34m\u001b[0m\u001b[0;34m\u001b[0m\u001b[0m\n\u001b[1;32m     42\u001b[0m   \u001b[0;31m#gray = cv2.cvtColor(im, cv2.COLOR_RGB2GRAY) # convert the image into GRAY\u001b[0m\u001b[0;34m\u001b[0m\u001b[0;34m\u001b[0m\u001b[0;34m\u001b[0m\u001b[0m\n",
      "\u001b[0;32m/usr/local/lib/python3.7/dist-packages/google/colab/output/_js.py\u001b[0m in \u001b[0;36meval_js\u001b[0;34m(script, ignore_result, timeout_sec)\u001b[0m\n\u001b[1;32m     38\u001b[0m   \u001b[0;32mif\u001b[0m \u001b[0mignore_result\u001b[0m\u001b[0;34m:\u001b[0m\u001b[0;34m\u001b[0m\u001b[0;34m\u001b[0m\u001b[0m\n\u001b[1;32m     39\u001b[0m     \u001b[0;32mreturn\u001b[0m\u001b[0;34m\u001b[0m\u001b[0;34m\u001b[0m\u001b[0m\n\u001b[0;32m---> 40\u001b[0;31m   \u001b[0;32mreturn\u001b[0m \u001b[0m_message\u001b[0m\u001b[0;34m.\u001b[0m\u001b[0mread_reply_from_input\u001b[0m\u001b[0;34m(\u001b[0m\u001b[0mrequest_id\u001b[0m\u001b[0;34m,\u001b[0m \u001b[0mtimeout_sec\u001b[0m\u001b[0;34m)\u001b[0m\u001b[0;34m\u001b[0m\u001b[0;34m\u001b[0m\u001b[0m\n\u001b[0m\u001b[1;32m     41\u001b[0m \u001b[0;34m\u001b[0m\u001b[0m\n\u001b[1;32m     42\u001b[0m \u001b[0;34m\u001b[0m\u001b[0m\n",
      "\u001b[0;32m/usr/local/lib/python3.7/dist-packages/google/colab/_message.py\u001b[0m in \u001b[0;36mread_reply_from_input\u001b[0;34m(message_id, timeout_sec)\u001b[0m\n\u001b[1;32m     95\u001b[0m     \u001b[0mreply\u001b[0m \u001b[0;34m=\u001b[0m \u001b[0m_read_next_input_message\u001b[0m\u001b[0;34m(\u001b[0m\u001b[0;34m)\u001b[0m\u001b[0;34m\u001b[0m\u001b[0;34m\u001b[0m\u001b[0m\n\u001b[1;32m     96\u001b[0m     \u001b[0;32mif\u001b[0m \u001b[0mreply\u001b[0m \u001b[0;34m==\u001b[0m \u001b[0m_NOT_READY\u001b[0m \u001b[0;32mor\u001b[0m \u001b[0;32mnot\u001b[0m \u001b[0misinstance\u001b[0m\u001b[0;34m(\u001b[0m\u001b[0mreply\u001b[0m\u001b[0;34m,\u001b[0m \u001b[0mdict\u001b[0m\u001b[0;34m)\u001b[0m\u001b[0;34m:\u001b[0m\u001b[0;34m\u001b[0m\u001b[0;34m\u001b[0m\u001b[0m\n\u001b[0;32m---> 97\u001b[0;31m       \u001b[0mtime\u001b[0m\u001b[0;34m.\u001b[0m\u001b[0msleep\u001b[0m\u001b[0;34m(\u001b[0m\u001b[0;36m0.025\u001b[0m\u001b[0;34m)\u001b[0m\u001b[0;34m\u001b[0m\u001b[0;34m\u001b[0m\u001b[0m\n\u001b[0m\u001b[1;32m     98\u001b[0m       \u001b[0;32mcontinue\u001b[0m\u001b[0;34m\u001b[0m\u001b[0;34m\u001b[0m\u001b[0m\n\u001b[1;32m     99\u001b[0m     if (reply.get('type') == 'colab_reply' and\n",
      "\u001b[0;31mKeyboardInterrupt\u001b[0m: "
     ]
    }
   ],
   "source": [
    "#task 4\n",
    "VideoCapture()\n",
    "eval_js('create()')\n",
    "\n",
    "CascadeFace = cv2.CascadeClassifier(cv2.data.haarcascades + 'haarcascade_frontalface_default.xml')\n",
    "\n",
    "isFaceDetect=False\n",
    "margin = 30\n",
    "restr = 30\n",
    "\n",
    "while not isFaceDetect:\n",
    "  bigrect=[] \n",
    "  byte = eval_js('capture()')\n",
    "  im = byte2image(byte)\n",
    "  gray = cv2.cvtColor(im, cv2.COLOR_RGB2GRAY) # convert the image into GRAY\n",
    "  hsv =  cv2.cvtColor(im, cv2.COLOR_RGB2HSV) #convert image to color\n",
    "  face = detect(gray, cascade = CascadeFace) # face contains the rectangle\n",
    " \n",
    "  if len(face)==0:\n",
    "    isFaceDetect=False\n",
    "  else:\n",
    "    isFaceDetect=True\n",
    "    \n",
    "  if isFaceDetect: # if a face is found\n",
    "    restricted_face = restrict(face[0])\n",
    "    hsv_roi=hsv[restricted_face[1]:restricted_face[3], restricted_face[0]:restricted_face[2]] # !!! better to restrict this face for the histogram\n",
    "    bigrect.append(compute_big_rect2(face[0])) # compute bigrect and add to the list\n",
    "  \n",
    "    isDetection=True # set a flag to start camshift\n",
    "    #gray_roi = gray[bigrect[0][1]:bigrect[0][3], bigrect[0][0]:bigrect[0][2]] # compute the region of interest\n",
    "    hist=cv2.calcHist([hsv_roi], [0], None, [180], [0,180]) # compute the histogram\n",
    "    plt.hist(hsv_roi.ravel(),256,[0,256]) # show the histogram\n",
    "    plt.show()\n",
    "\n",
    "    track_window = (bigrect[0][0], bigrect[0][1], bigrect[0][2], bigrect[0][3]) # compute the region of interest (bigrect)\n",
    "\n",
    "term_crit = ( cv2.TERM_CRITERIA_EPS | cv2.TERM_CRITERIA_COUNT, 10, 1 ) # sets some criteria for camshift\n",
    "\n",
    "while isDetection:\n",
    "  byte = eval_js('capture()')\n",
    "  im = byte2image(byte)\n",
    "  #gray = cv2.cvtColor(im, cv2.COLOR_RGB2GRAY) # convert the image into GRAY\n",
    "  hsv =  cv2.cvtColor(im, cv2.COLOR_RGB2HSV) #convert image to color\n",
    "  mask = cv2.inRange(hsv, np.array((0,64,32)), np.array((180,200,200)))\n",
    "\n",
    "  prob = cv2.calcBackProject([hsv], [0], hist, [0, 180], 1) # compute the probability matrix \n",
    "\n",
    "  for i in range(bigrect[0][0], bigrect[0][2]): # iterates between x1, x2\n",
    "    for j in range(bigrect[0][1], bigrect[0][3]): # iterates between y1, y2\n",
    "      prob[j,i]=0 # sets probability matrix to 0 on all points inside bigrect\n",
    "\n",
    "  prob &= mask\n",
    "\n",
    "  track_box, track_window = cv2.CamShift(prob, track_window, term_crit) # perform camshift over the track_window\n",
    "  \n",
    "  im[:] = prob[...,np.newaxis] # add probability matrix to the image\n",
    "\n",
    "  draw_rects(im, [restricted_face], (255, 0, 255))\n",
    " \n",
    "  cv2.ellipse(im, track_box, (255, 0, 0), 2) # draw the ellipse\n",
    "  \n",
    "\n",
    "  eval_js('showimg(\"{}\")'.format(image2byte(im)))"
   ]
  },
  {
   "cell_type": "markdown",
   "metadata": {
    "id": "_mdhdP8UUxXj"
   },
   "source": [
    "# **Task 5**"
   ]
  },
  {
   "cell_type": "markdown",
   "metadata": {
    "id": "-D6B0orYxuor"
   },
   "source": [
    "In task 5 the scope is to detect and store the hand as an image in two different sizes: 16x16 and 224x224. "
   ]
  },
  {
   "cell_type": "markdown",
   "metadata": {
    "id": "HWry8TzJySNQ"
   },
   "source": [
    "We start by asking how many pictures you want to take and how many seconds between each picture."
   ]
  },
  {
   "cell_type": "code",
   "execution_count": 15,
   "metadata": {
    "colab": {
     "base_uri": "https://localhost:8080/",
     "height": 371
    },
    "executionInfo": {
     "elapsed": 2159,
     "status": "error",
     "timestamp": 1668520519501,
     "user": {
      "displayName": "ilaria enache",
      "userId": "11897907361892988235"
     },
     "user_tz": -60
    },
    "id": "Cng9l3Lzj11B",
    "outputId": "d3233abd-8e74-472c-b9f8-9daa818ec2b7"
   },
   "outputs": [
    {
     "ename": "KeyboardInterrupt",
     "evalue": "ignored",
     "output_type": "error",
     "traceback": [
      "\u001b[0;31m---------------------------------------------------------------------------\u001b[0m",
      "\u001b[0;31mKeyboardInterrupt\u001b[0m                         Traceback (most recent call last)",
      "\u001b[0;32m<ipython-input-15-a128f66808c2>\u001b[0m in \u001b[0;36m<module>\u001b[0;34m\u001b[0m\n\u001b[0;32m----> 1\u001b[0;31m \u001b[0mPicture_count\u001b[0m\u001b[0;34m=\u001b[0m\u001b[0mint\u001b[0m\u001b[0;34m(\u001b[0m\u001b[0minput\u001b[0m\u001b[0;34m(\u001b[0m\u001b[0;34m\"How many pictures do you want to take? \"\u001b[0m\u001b[0;34m)\u001b[0m\u001b[0;34m)\u001b[0m\u001b[0;31m# the number of picture to be taken\u001b[0m\u001b[0;34m\u001b[0m\u001b[0;34m\u001b[0m\u001b[0m\n\u001b[0m\u001b[1;32m      2\u001b[0m \u001b[0mTime\u001b[0m\u001b[0;34m=\u001b[0m\u001b[0mint\u001b[0m\u001b[0;34m(\u001b[0m\u001b[0minput\u001b[0m\u001b[0;34m(\u001b[0m\u001b[0;34m\"How many seconds between each photo? \"\u001b[0m\u001b[0;34m)\u001b[0m\u001b[0;34m)\u001b[0m\u001b[0;34m\u001b[0m\u001b[0;34m\u001b[0m\u001b[0m\n\u001b[1;32m      3\u001b[0m \u001b[0mn_images\u001b[0m\u001b[0;34m=\u001b[0m\u001b[0;36m0\u001b[0m \u001b[0;31m# counter of saved images\u001b[0m\u001b[0;34m\u001b[0m\u001b[0;34m\u001b[0m\u001b[0m\n\u001b[1;32m      4\u001b[0m \u001b[0msaved_images\u001b[0m \u001b[0;34m=\u001b[0m\u001b[0;34m[\u001b[0m\u001b[0;34m]\u001b[0m\u001b[0;34m\u001b[0m\u001b[0;34m\u001b[0m\u001b[0m\n",
      "\u001b[0;32m/usr/local/lib/python3.7/dist-packages/ipykernel/kernelbase.py\u001b[0m in \u001b[0;36mraw_input\u001b[0;34m(self, prompt)\u001b[0m\n\u001b[1;32m    861\u001b[0m             \u001b[0mself\u001b[0m\u001b[0;34m.\u001b[0m\u001b[0m_parent_ident\u001b[0m\u001b[0;34m,\u001b[0m\u001b[0;34m\u001b[0m\u001b[0;34m\u001b[0m\u001b[0m\n\u001b[1;32m    862\u001b[0m             \u001b[0mself\u001b[0m\u001b[0;34m.\u001b[0m\u001b[0m_parent_header\u001b[0m\u001b[0;34m,\u001b[0m\u001b[0;34m\u001b[0m\u001b[0;34m\u001b[0m\u001b[0m\n\u001b[0;32m--> 863\u001b[0;31m             \u001b[0mpassword\u001b[0m\u001b[0;34m=\u001b[0m\u001b[0;32mFalse\u001b[0m\u001b[0;34m,\u001b[0m\u001b[0;34m\u001b[0m\u001b[0;34m\u001b[0m\u001b[0m\n\u001b[0m\u001b[1;32m    864\u001b[0m         )\n\u001b[1;32m    865\u001b[0m \u001b[0;34m\u001b[0m\u001b[0m\n",
      "\u001b[0;32m/usr/local/lib/python3.7/dist-packages/ipykernel/kernelbase.py\u001b[0m in \u001b[0;36m_input_request\u001b[0;34m(self, prompt, ident, parent, password)\u001b[0m\n\u001b[1;32m    902\u001b[0m             \u001b[0;32mexcept\u001b[0m \u001b[0mKeyboardInterrupt\u001b[0m\u001b[0;34m:\u001b[0m\u001b[0;34m\u001b[0m\u001b[0;34m\u001b[0m\u001b[0m\n\u001b[1;32m    903\u001b[0m                 \u001b[0;31m# re-raise KeyboardInterrupt, to truncate traceback\u001b[0m\u001b[0;34m\u001b[0m\u001b[0;34m\u001b[0m\u001b[0;34m\u001b[0m\u001b[0m\n\u001b[0;32m--> 904\u001b[0;31m                 \u001b[0;32mraise\u001b[0m \u001b[0mKeyboardInterrupt\u001b[0m\u001b[0;34m(\u001b[0m\u001b[0;34m\"Interrupted by user\"\u001b[0m\u001b[0;34m)\u001b[0m \u001b[0;32mfrom\u001b[0m \u001b[0;32mNone\u001b[0m\u001b[0;34m\u001b[0m\u001b[0;34m\u001b[0m\u001b[0m\n\u001b[0m\u001b[1;32m    905\u001b[0m             \u001b[0;32mexcept\u001b[0m \u001b[0mException\u001b[0m \u001b[0;32mas\u001b[0m \u001b[0me\u001b[0m\u001b[0;34m:\u001b[0m\u001b[0;34m\u001b[0m\u001b[0;34m\u001b[0m\u001b[0m\n\u001b[1;32m    906\u001b[0m                 \u001b[0mself\u001b[0m\u001b[0;34m.\u001b[0m\u001b[0mlog\u001b[0m\u001b[0;34m.\u001b[0m\u001b[0mwarning\u001b[0m\u001b[0;34m(\u001b[0m\u001b[0;34m\"Invalid Message:\"\u001b[0m\u001b[0;34m,\u001b[0m \u001b[0mexc_info\u001b[0m\u001b[0;34m=\u001b[0m\u001b[0;32mTrue\u001b[0m\u001b[0;34m)\u001b[0m\u001b[0;34m\u001b[0m\u001b[0;34m\u001b[0m\u001b[0m\n",
      "\u001b[0;31mKeyboardInterrupt\u001b[0m: Interrupted by user"
     ]
    }
   ],
   "source": [
    "Picture_count=int(input(\"How many pictures do you want to take? \"))# the number of picture to be taken\n",
    "Time=int(input(\"How many seconds between each photo? \"))\n",
    "n_images=0 # counter of saved images\n",
    "saved_images =[]"
   ]
  },
  {
   "cell_type": "markdown",
   "metadata": {
    "id": "IZWCzEbQykiM"
   },
   "source": [
    "We continue by actually taking the pictures, cropping them so it takes just the hand and saving them."
   ]
  },
  {
   "cell_type": "code",
   "execution_count": 20,
   "metadata": {
    "colab": {
     "base_uri": "https://localhost:8080/",
     "height": 1000
    },
    "executionInfo": {
     "elapsed": 9083,
     "status": "error",
     "timestamp": 1668520561306,
     "user": {
      "displayName": "ilaria enache",
      "userId": "11897907361892988235"
     },
     "user_tz": -60
    },
    "id": "N5y4dqyuj5oi",
    "outputId": "4cc5fa0f-9ff8-4fe6-bcd5-28395f3348a9"
   },
   "outputs": [
    {
     "data": {
      "application/javascript": [
       "\n",
       "    // the function 'create' creates the \"box\" that contains the videostream\n",
       "    // async functions return a promise, they make the code look synchronous, but it's asynchronous and non-blocking behind the scenes\n",
       "    async function create(){ \n",
       "      div = document.createElement('div');\n",
       "      document.body.appendChild(div);\n",
       "\n",
       "      video = document.createElement('video');\n",
       "      video.setAttribute('playsinline', '');\n",
       "\n",
       "      div.appendChild(video);\n",
       "      // await is used to call functions, the calling code will stop until the promise is resolved or rejected\n",
       "      stream = await navigator.mediaDevices.getUserMedia({video: {facingMode: \"environment\"}});\n",
       "      video.srcObject = stream;\n",
       "\n",
       "      // await is used to call functions, here we call the video.play() function\n",
       "      await video.play();\n",
       "\n",
       "      canvas =  document.createElement('canvas');\n",
       "      canvas.width = video.videoWidth;\n",
       "      canvas.height = video.videoHeight;\n",
       "      canvas.getContext('2d').drawImage(video, 0, 0);\n",
       "\n",
       "      div_out = document.createElement('div');\n",
       "      document.body.appendChild(div_out);\n",
       "      img = document.createElement('img');\n",
       "      div_out.appendChild(img);\n",
       "    }\n",
       "\n",
       "    //  \n",
       "    async function capture(){\n",
       "        return await new Promise(function(resolve, reject){\n",
       "            pendingResolve = resolve;\n",
       "            canvas.getContext('2d').drawImage(video, 0, 0);\n",
       "            result = canvas.toDataURL('image/jpeg', 0.80);\n",
       "\n",
       "            pendingResolve(result);\n",
       "        })\n",
       "    }\n",
       "\n",
       "    function showimg(imgb64){\n",
       "        img.src = \"data:image/jpg;base64,\" + imgb64;\n",
       "    }\n",
       "\n",
       "  "
      ],
      "text/plain": [
       "<IPython.core.display.Javascript object>"
      ]
     },
     "metadata": {},
     "output_type": "display_data"
    },
    {
     "data": {
      "image/png": "[encoded data removed]",
      "text/plain": [
       "<Figure size 432x288 with 1 Axes>"
      ]
     },
     "metadata": {
      "needs_background": "light"
     },
     "output_type": "display_data"
    },
    {
     "data": {
      "image/png": "[encoded data removed]",
      "text/plain": [
       "<PIL.Image.Image image mode=RGB size=156x102 at 0x7FBCBCE61250>"
      ]
     },
     "metadata": {},
     "output_type": "display_data"
    },
    {
     "ename": "KeyboardInterrupt",
     "evalue": "ignored",
     "output_type": "error",
     "traceback": [
      "\u001b[0;31m---------------------------------------------------------------------------\u001b[0m",
      "\u001b[0;31mKeyboardInterrupt\u001b[0m                         Traceback (most recent call last)",
      "\u001b[0;32m<ipython-input-20-c832b2fd1351>\u001b[0m in \u001b[0;36m<module>\u001b[0;34m\u001b[0m\n\u001b[1;32m     70\u001b[0m   \u001b[0mcv2_imshow\u001b[0m\u001b[0;34m(\u001b[0m\u001b[0mcropped_image\u001b[0m\u001b[0;34m)\u001b[0m\u001b[0;34m\u001b[0m\u001b[0;34m\u001b[0m\u001b[0m\n\u001b[1;32m     71\u001b[0m \u001b[0;34m\u001b[0m\u001b[0m\n\u001b[0;32m---> 72\u001b[0;31m   \u001b[0msave_image\u001b[0m\u001b[0;34m=\u001b[0m\u001b[0minput\u001b[0m\u001b[0;34m(\u001b[0m\u001b[0;34m\"Do you want to save the image Y or N: \"\u001b[0m\u001b[0;34m)\u001b[0m\u001b[0;34m\u001b[0m\u001b[0;34m\u001b[0m\u001b[0m\n\u001b[0m\u001b[1;32m     73\u001b[0m   \u001b[0;31m#cv2_imshow(cropped_image)\u001b[0m\u001b[0;34m\u001b[0m\u001b[0;34m\u001b[0m\u001b[0;34m\u001b[0m\u001b[0m\n\u001b[1;32m     74\u001b[0m \u001b[0;34m\u001b[0m\u001b[0m\n",
      "\u001b[0;32m/usr/local/lib/python3.7/dist-packages/ipykernel/kernelbase.py\u001b[0m in \u001b[0;36mraw_input\u001b[0;34m(self, prompt)\u001b[0m\n\u001b[1;32m    861\u001b[0m             \u001b[0mself\u001b[0m\u001b[0;34m.\u001b[0m\u001b[0m_parent_ident\u001b[0m\u001b[0;34m,\u001b[0m\u001b[0;34m\u001b[0m\u001b[0;34m\u001b[0m\u001b[0m\n\u001b[1;32m    862\u001b[0m             \u001b[0mself\u001b[0m\u001b[0;34m.\u001b[0m\u001b[0m_parent_header\u001b[0m\u001b[0;34m,\u001b[0m\u001b[0;34m\u001b[0m\u001b[0;34m\u001b[0m\u001b[0m\n\u001b[0;32m--> 863\u001b[0;31m             \u001b[0mpassword\u001b[0m\u001b[0;34m=\u001b[0m\u001b[0;32mFalse\u001b[0m\u001b[0;34m,\u001b[0m\u001b[0;34m\u001b[0m\u001b[0;34m\u001b[0m\u001b[0m\n\u001b[0m\u001b[1;32m    864\u001b[0m         )\n\u001b[1;32m    865\u001b[0m \u001b[0;34m\u001b[0m\u001b[0m\n",
      "\u001b[0;32m/usr/local/lib/python3.7/dist-packages/ipykernel/kernelbase.py\u001b[0m in \u001b[0;36m_input_request\u001b[0;34m(self, prompt, ident, parent, password)\u001b[0m\n\u001b[1;32m    902\u001b[0m             \u001b[0;32mexcept\u001b[0m \u001b[0mKeyboardInterrupt\u001b[0m\u001b[0;34m:\u001b[0m\u001b[0;34m\u001b[0m\u001b[0;34m\u001b[0m\u001b[0m\n\u001b[1;32m    903\u001b[0m                 \u001b[0;31m# re-raise KeyboardInterrupt, to truncate traceback\u001b[0m\u001b[0;34m\u001b[0m\u001b[0;34m\u001b[0m\u001b[0;34m\u001b[0m\u001b[0m\n\u001b[0;32m--> 904\u001b[0;31m                 \u001b[0;32mraise\u001b[0m \u001b[0mKeyboardInterrupt\u001b[0m\u001b[0;34m(\u001b[0m\u001b[0;34m\"Interrupted by user\"\u001b[0m\u001b[0;34m)\u001b[0m \u001b[0;32mfrom\u001b[0m \u001b[0;32mNone\u001b[0m\u001b[0;34m\u001b[0m\u001b[0;34m\u001b[0m\u001b[0m\n\u001b[0m\u001b[1;32m    905\u001b[0m             \u001b[0;32mexcept\u001b[0m \u001b[0mException\u001b[0m \u001b[0;32mas\u001b[0m \u001b[0me\u001b[0m\u001b[0;34m:\u001b[0m\u001b[0;34m\u001b[0m\u001b[0;34m\u001b[0m\u001b[0m\n\u001b[1;32m    906\u001b[0m                 \u001b[0mself\u001b[0m\u001b[0;34m.\u001b[0m\u001b[0mlog\u001b[0m\u001b[0;34m.\u001b[0m\u001b[0mwarning\u001b[0m\u001b[0;34m(\u001b[0m\u001b[0;34m\"Invalid Message:\"\u001b[0m\u001b[0;34m,\u001b[0m \u001b[0mexc_info\u001b[0m\u001b[0;34m=\u001b[0m\u001b[0;32mTrue\u001b[0m\u001b[0;34m)\u001b[0m\u001b[0;34m\u001b[0m\u001b[0;34m\u001b[0m\u001b[0m\n",
      "\u001b[0;31mKeyboardInterrupt\u001b[0m: Interrupted by user"
     ]
    }
   ],
   "source": [
    "VideoCapture()\n",
    "eval_js('create()')\n",
    "\n",
    "CascadeFace = cv2.CascadeClassifier(cv2.data.haarcascades + 'haarcascade_frontalface_default.xml')\n",
    "\n",
    "isFaceDetect=False\n",
    "margin = 30\n",
    "restr = 30\n",
    "\n",
    "while not isFaceDetect:\n",
    "  bigrect=[] \n",
    "  byte = eval_js('capture()')\n",
    "  im = byte2image(byte)\n",
    "  gray = cv2.cvtColor(im, cv2.COLOR_RGB2GRAY) # convert the image into GRAY\n",
    "  hsv =  cv2.cvtColor(im, cv2.COLOR_RGB2HSV) #convert image to color\n",
    "  face = detect(gray, cascade = CascadeFace) # face contains the rectangle\n",
    " \n",
    "  if len(face)==0:\n",
    "    isFaceDetect=False\n",
    "  else:\n",
    "    isFaceDetect=True\n",
    "    \n",
    "  if isFaceDetect: # if a face is found\n",
    "    restricted_face = restrict(face[0])\n",
    "    hsv_roi=hsv[restricted_face[1]:restricted_face[3], restricted_face[0]:restricted_face[2]] # !!! better to restrict this face for the histogram\n",
    "    mask_roi = cv2.inRange(hsv_roi, np.array((0., 60., 32.)), np.array((180., 255., 255.)))\n",
    "    bigrect.append(compute_big_rect2(face[0])) # compute bigrect and add to the list\n",
    "  \n",
    "    isDetection=True # set a flag to start camshift\n",
    "    hist=cv2.calcHist([hsv_roi], [0], mask_roi, [180], [0,180]) # compute the histogram\n",
    "    hist=cv2.normalize(hist, hist,  alpha=0, beta=255, norm_type=cv2.NORM_MINMAX) # normalize the histogram \n",
    "    plt.hist(hsv_roi.ravel(),256,[0,256]) # show the histogram\n",
    "    plt.show()\n",
    "\n",
    "    track_window = (bigrect[0][0], bigrect[0][1], bigrect[0][2], bigrect[0][3]) # compute the region of interest (bigrect)\n",
    "\n",
    "term_crit = ( cv2.TERM_CRITERIA_EPS | cv2.TERM_CRITERIA_COUNT, 10, 1 ) # sets some criteria for camshift\n",
    "\n",
    "while isDetection:\n",
    "  byte = eval_js('capture()')\n",
    "  im = byte2image(byte)\n",
    "  hsv =  cv2.cvtColor(im, cv2.COLOR_RGB2HSV) #convert image to color\n",
    "  mask = cv2.inRange(hsv, np.array((0,64,32)), np.array((180,200,200)))\n",
    "  raw_im = cv2.cvtColor(gray,cv2.COLOR_GRAY2RGB)\n",
    "  prob = cv2.calcBackProject([hsv], [0], hist, [0, 180], 1) # compute the probability matrix \n",
    "  \n",
    "\n",
    "  for i in range(bigrect[0][0], bigrect[0][2]): # iterates between x1, x2\n",
    "    for j in range(bigrect[0][1], bigrect[0][3]): # iterates between y1, y2\n",
    "      prob[j,i]=0 # sets probability matrix to 0 on all points inside bigrect\n",
    "\n",
    "  prob &= mask\n",
    "\n",
    "  track_box, track_window = cv2.CamShift(prob, track_window, term_crit) # perform camshift over the track_window\n",
    "  \n",
    "  im[:] = prob[...,np.newaxis] # add probability matrix to the image\n",
    "\n",
    "  draw_rects(im, [restricted_face], (255, 0, 255))\n",
    " \n",
    "  #cv2.ellipse(im, track_box, (255, 0, 0), 2) # draw the ellipse\n",
    "\n",
    "  eval_js('showimg(\"{}\")'.format(image2byte(im)))\n",
    "  if n_images==Picture_count:\n",
    "    break\n",
    "  else:\n",
    "    time.sleep(Time)\n",
    "  #we crop the image to have only the hand\n",
    "  cropped_image = im[int(track_window[1]):int(track_window[1]+track_window[3]), int(track_window[0]):int(track_window[0]+track_window[2])]\n",
    "\n",
    "  cv2_imshow(cropped_image)\n",
    "  \n",
    "  save_image=input(\"Do you want to save the image Y or N: \")\n",
    "  #cv2_imshow(cropped_image)\n",
    "  \n",
    "  #eval_js('showimg(\"{}\")'.format(image2byte(hand)))\n",
    "  \n",
    "  if str.lower(save_image) == 'y':\n",
    "\n",
    "    saved_images.append(cropped_image)\n",
    "    print(\"Picture\",n_images+1,\"was stored\")\n",
    "    #print(cropped_image)\n",
    "    n_images+=1\n",
    "    continue\n",
    "  else:\n",
    "    continue\n"
   ]
  },
  {
   "cell_type": "code",
   "execution_count": 21,
   "metadata": {
    "colab": {
     "base_uri": "https://localhost:8080/",
     "height": 204
    },
    "executionInfo": {
     "elapsed": 242,
     "status": "error",
     "timestamp": 1668520564289,
     "user": {
      "displayName": "ilaria enache",
      "userId": "11897907361892988235"
     },
     "user_tz": -60
    },
    "id": "DszbykbHpOp8",
    "outputId": "f168573d-1fb2-4915-9b40-ef99be66dfb7"
   },
   "outputs": [
    {
     "ename": "NameError",
     "evalue": "ignored",
     "output_type": "error",
     "traceback": [
      "\u001b[0;31m---------------------------------------------------------------------------\u001b[0m",
      "\u001b[0;31mNameError\u001b[0m                                 Traceback (most recent call last)",
      "\u001b[0;32m<ipython-input-21-fd59066eaa10>\u001b[0m in \u001b[0;36m<module>\u001b[0;34m\u001b[0m\n\u001b[1;32m      1\u001b[0m \u001b[0;31m#to see all the saved pictures\u001b[0m\u001b[0;34m\u001b[0m\u001b[0;34m\u001b[0m\u001b[0;34m\u001b[0m\u001b[0m\n\u001b[0;32m----> 2\u001b[0;31m \u001b[0;32mfor\u001b[0m \u001b[0mimage\u001b[0m \u001b[0;32min\u001b[0m \u001b[0msaved_images\u001b[0m\u001b[0;34m:\u001b[0m\u001b[0;34m\u001b[0m\u001b[0;34m\u001b[0m\u001b[0m\n\u001b[0m\u001b[1;32m      3\u001b[0m   \u001b[0mcv2_imshow\u001b[0m\u001b[0;34m(\u001b[0m\u001b[0mimage\u001b[0m\u001b[0;34m)\u001b[0m\u001b[0;34m\u001b[0m\u001b[0;34m\u001b[0m\u001b[0m\n",
      "\u001b[0;31mNameError\u001b[0m: name 'saved_images' is not defined"
     ]
    }
   ],
   "source": [
    "#to see all the saved pictures\n",
    "for image in saved_images:\n",
    "  cv2_imshow(image)"
   ]
  },
  {
   "cell_type": "markdown",
   "metadata": {
    "id": "55xIe3bnzokO"
   },
   "source": [
    "In the variable img_path I saved the path to the folder containing the pictures, since we made three different datasets I manually changed the folder name when needed."
   ]
  },
  {
   "cell_type": "code",
   "execution_count": 22,
   "metadata": {
    "executionInfo": {
     "elapsed": 207,
     "status": "ok",
     "timestamp": 1668520585137,
     "user": {
      "displayName": "ilaria enache",
      "userId": "11897907361892988235"
     },
     "user_tz": -60
    },
    "id": "NQHe64jaoBZO"
   },
   "outputs": [],
   "source": [
    "img_path = \"/content/gdrive/MyDrive/Computer Vision Ilaria/images/data1/\""
   ]
  },
  {
   "cell_type": "markdown",
   "metadata": {
    "id": "KfsDbojtzuQt"
   },
   "source": [
    "resize_images is used to resize all the images saved into the two sizes, name the pictures with letter+id+size and save them to the folder."
   ]
  },
  {
   "cell_type": "code",
   "execution_count": 23,
   "metadata": {
    "executionInfo": {
     "elapsed": 925,
     "status": "ok",
     "timestamp": 1668520587237,
     "user": {
      "displayName": "ilaria enache",
      "userId": "11897907361892988235"
     },
     "user_tz": -60
    },
    "id": "DRXuoFG8pmHg"
   },
   "outputs": [],
   "source": [
    "def resize_images(images, letter): \n",
    "  sizes = [16, 224]\n",
    "  for id,image in enumerate(images):\n",
    "    for size in sizes:\n",
    "      file_name = letter.upper()+\"_\" + str(id) +\"_\"+  str(size) #give the pic a name\n",
    "      print(file_name) #print the name\n",
    "      try:\n",
    "        resized_img = cv2.resize(image, (size, size), interpolation = cv2.INTER_AREA) #resize image\n",
    "      except:\n",
    "        break\n",
    "      cv2_imshow(resized_img) #print resized pic\n",
    "      cv2.imwrite(img_path + file_name + \".jpg\", resized_img) #save image to folder\n"
   ]
  },
  {
   "cell_type": "code",
   "execution_count": 24,
   "metadata": {
    "colab": {
     "base_uri": "https://localhost:8080/",
     "height": 187
    },
    "executionInfo": {
     "elapsed": 221,
     "status": "error",
     "timestamp": 1668520588415,
     "user": {
      "displayName": "ilaria enache",
      "userId": "11897907361892988235"
     },
     "user_tz": -60
    },
    "id": "7NIdRsaDqyeD",
    "outputId": "b18a4782-70e7-4232-bc4d-02a7d98cada8"
   },
   "outputs": [
    {
     "ename": "NameError",
     "evalue": "ignored",
     "output_type": "error",
     "traceback": [
      "\u001b[0;31m---------------------------------------------------------------------------\u001b[0m",
      "\u001b[0;31mNameError\u001b[0m                                 Traceback (most recent call last)",
      "\u001b[0;32m<ipython-input-24-607685c86cab>\u001b[0m in \u001b[0;36m<module>\u001b[0;34m\u001b[0m\n\u001b[1;32m      1\u001b[0m \u001b[0;31m#calling the function, change the letter when needed\u001b[0m\u001b[0;34m\u001b[0m\u001b[0;34m\u001b[0m\u001b[0;34m\u001b[0m\u001b[0m\n\u001b[0;32m----> 2\u001b[0;31m \u001b[0mresize_images\u001b[0m\u001b[0;34m(\u001b[0m\u001b[0msaved_images\u001b[0m\u001b[0;34m,\u001b[0m \u001b[0;34m'N'\u001b[0m\u001b[0;34m)\u001b[0m\u001b[0;34m\u001b[0m\u001b[0;34m\u001b[0m\u001b[0m\n\u001b[0m",
      "\u001b[0;31mNameError\u001b[0m: name 'saved_images' is not defined"
     ]
    }
   ],
   "source": [
    "#calling the function, change the letter when needed\n",
    "resize_images(saved_images, 'N')"
   ]
  },
  {
   "cell_type": "markdown",
   "metadata": {
    "id": "pyhd_aI3VRiq"
   },
   "source": [
    "# **Task 6**"
   ]
  },
  {
   "cell_type": "markdown",
   "metadata": {
    "id": "Bcf7mfii0-eZ"
   },
   "source": [
    "In task 6 we create our dataset, the letters chosen were M, N and W. \n"
   ]
  },
  {
   "cell_type": "code",
   "execution_count": 25,
   "metadata": {
    "executionInfo": {
     "elapsed": 2,
     "status": "ok",
     "timestamp": 1668520590573,
     "user": {
      "displayName": "ilaria enache",
      "userId": "11897907361892988235"
     },
     "user_tz": -60
    },
    "id": "qAsLbhGkeVzY"
   },
   "outputs": [],
   "source": [
    "# changes the shape of the array of the 16x16 images and appends it into the text file dataset.txt\n",
    "def Resize_and_Write(id, letter, dataset):\n",
    "\n",
    "\n",
    "  #given an id and letter, reads the image and converts it into a list\n",
    "  img = cv2.imread(img_path +letter+\"_\" + str(id) + \"_16.jpg\") #\n",
    "  res = cv2.resize(img, dsize=(1,256), interpolation=cv2.INTER_CUBIC) # 16x16 to (1,256) 1row | 256 columns\n",
    "  flat_res = [str(a[0][0]) for a in res] # 1 with 256 elem\n",
    "  \n",
    "\n",
    "  is_empty = False\n",
    "  try:\n",
    "    with  open(\"/content/gdrive/MyDrive/Computer Vision Ilaria/\" + dataset, \"r\") as fileobj: # open the dataset in read mode\n",
    "      if len(fileobj.readlines())==0: # checks if the dataset is empty\n",
    "        is_empty = True\n",
    "  except:\n",
    "    is_empty = True # if the dataset does not exist, set the empty variable to true\n",
    "  with open(\"/content/gdrive/MyDrive/Computer Vision Ilaria/\" + dataset, \"a+\") as fileobj: # open the dataset in append mode\n",
    "    L_list=[letter, *flat_res] # create a list with the letter as first element, followed by all the values of the pixels\n",
    "    str_list = str(L_list)\n",
    "    str_list = str_list.replace('\\'', '')[1:-1] # remove the quotes and the brackets\n",
    "    if is_empty:\n",
    "      fileobj.write(str_list)#Creates file if file doesnt exist/also appends \n",
    "    else:\n",
    "      fileobj.write(\"\\n\" + str_list)#Creates file if file doesnt exist/also appends\n",
    "\n",
    "\n"
   ]
  },
  {
   "cell_type": "code",
   "execution_count": 26,
   "metadata": {
    "executionInfo": {
     "elapsed": 1,
     "status": "ok",
     "timestamp": 1668520592595,
     "user": {
      "displayName": "ilaria enache",
      "userId": "11897907361892988235"
     },
     "user_tz": -60
    },
    "id": "q_0JnHIFlT1j"
   },
   "outputs": [],
   "source": [
    "letters = [\"M\", \"N\", \"W\"]\n",
    "dataset_1 = \"dataset1.txt\"\n",
    "dataset_2 = \"dataset2.txt\"\n",
    "dataset_3 = \"dataset3.txt\"\n",
    "\n",
    "#change when needed\n",
    "n_images = 100"
   ]
  },
  {
   "cell_type": "markdown",
   "metadata": {
    "id": "HQvNY-wc2aCA"
   },
   "source": [
    "Below we just change the name of the dataset as needed."
   ]
  },
  {
   "cell_type": "code",
   "execution_count": 27,
   "metadata": {
    "colab": {
     "base_uri": "https://localhost:8080/",
     "height": 312
    },
    "executionInfo": {
     "elapsed": 11195,
     "status": "error",
     "timestamp": 1668520605738,
     "user": {
      "displayName": "ilaria enache",
      "userId": "11897907361892988235"
     },
     "user_tz": -60
    },
    "id": "I9Y8ZZAFmOL6",
    "outputId": "346bab43-0d2d-413b-b744-82e8e1ba0f42"
   },
   "outputs": [
    {
     "ename": "KeyboardInterrupt",
     "evalue": "ignored",
     "output_type": "error",
     "traceback": [
      "\u001b[0;31m---------------------------------------------------------------------------\u001b[0m",
      "\u001b[0;31mKeyboardInterrupt\u001b[0m                         Traceback (most recent call last)",
      "\u001b[0;32m<ipython-input-27-7eedcd7896d1>\u001b[0m in \u001b[0;36m<module>\u001b[0;34m\u001b[0m\n\u001b[1;32m      1\u001b[0m \u001b[0;32mfor\u001b[0m \u001b[0mi\u001b[0m \u001b[0;32min\u001b[0m \u001b[0mrange\u001b[0m\u001b[0;34m(\u001b[0m\u001b[0mn_images\u001b[0m\u001b[0;34m)\u001b[0m\u001b[0;34m:\u001b[0m\u001b[0;34m\u001b[0m\u001b[0;34m\u001b[0m\u001b[0m\n\u001b[0;32m----> 2\u001b[0;31m   \u001b[0mResize_and_Write\u001b[0m\u001b[0;34m(\u001b[0m\u001b[0mi\u001b[0m\u001b[0;34m,\u001b[0m \u001b[0;34m\"N\"\u001b[0m\u001b[0;34m,\u001b[0m \u001b[0mdataset_3\u001b[0m\u001b[0;34m)\u001b[0m\u001b[0;34m\u001b[0m\u001b[0;34m\u001b[0m\u001b[0m\n\u001b[0m",
      "\u001b[0;32m<ipython-input-25-42bb1897ed96>\u001b[0m in \u001b[0;36mResize_and_Write\u001b[0;34m(id, letter, dataset)\u001b[0m\n\u001b[1;32m      4\u001b[0m \u001b[0;34m\u001b[0m\u001b[0m\n\u001b[1;32m      5\u001b[0m   \u001b[0;31m#given an id and letter, reads the image and converts it into a list\u001b[0m\u001b[0;34m\u001b[0m\u001b[0;34m\u001b[0m\u001b[0;34m\u001b[0m\u001b[0m\n\u001b[0;32m----> 6\u001b[0;31m   \u001b[0mimg\u001b[0m \u001b[0;34m=\u001b[0m \u001b[0mcv2\u001b[0m\u001b[0;34m.\u001b[0m\u001b[0mimread\u001b[0m\u001b[0;34m(\u001b[0m\u001b[0mimg_path\u001b[0m \u001b[0;34m+\u001b[0m\u001b[0mletter\u001b[0m\u001b[0;34m+\u001b[0m\u001b[0;34m\"_\"\u001b[0m \u001b[0;34m+\u001b[0m \u001b[0mstr\u001b[0m\u001b[0;34m(\u001b[0m\u001b[0mid\u001b[0m\u001b[0;34m)\u001b[0m \u001b[0;34m+\u001b[0m \u001b[0;34m\"_16.jpg\"\u001b[0m\u001b[0;34m)\u001b[0m \u001b[0;31m#\u001b[0m\u001b[0;34m\u001b[0m\u001b[0;34m\u001b[0m\u001b[0m\n\u001b[0m\u001b[1;32m      7\u001b[0m   \u001b[0mres\u001b[0m \u001b[0;34m=\u001b[0m \u001b[0mcv2\u001b[0m\u001b[0;34m.\u001b[0m\u001b[0mresize\u001b[0m\u001b[0;34m(\u001b[0m\u001b[0mimg\u001b[0m\u001b[0;34m,\u001b[0m \u001b[0mdsize\u001b[0m\u001b[0;34m=\u001b[0m\u001b[0;34m(\u001b[0m\u001b[0;36m1\u001b[0m\u001b[0;34m,\u001b[0m\u001b[0;36m256\u001b[0m\u001b[0;34m)\u001b[0m\u001b[0;34m,\u001b[0m \u001b[0minterpolation\u001b[0m\u001b[0;34m=\u001b[0m\u001b[0mcv2\u001b[0m\u001b[0;34m.\u001b[0m\u001b[0mINTER_CUBIC\u001b[0m\u001b[0;34m)\u001b[0m \u001b[0;31m# 16x16 to (1,256) 1row | 256 columns\u001b[0m\u001b[0;34m\u001b[0m\u001b[0;34m\u001b[0m\u001b[0m\n\u001b[1;32m      8\u001b[0m   \u001b[0mflat_res\u001b[0m \u001b[0;34m=\u001b[0m \u001b[0;34m[\u001b[0m\u001b[0mstr\u001b[0m\u001b[0;34m(\u001b[0m\u001b[0ma\u001b[0m\u001b[0;34m[\u001b[0m\u001b[0;36m0\u001b[0m\u001b[0;34m]\u001b[0m\u001b[0;34m[\u001b[0m\u001b[0;36m0\u001b[0m\u001b[0;34m]\u001b[0m\u001b[0;34m)\u001b[0m \u001b[0;32mfor\u001b[0m \u001b[0ma\u001b[0m \u001b[0;32min\u001b[0m \u001b[0mres\u001b[0m\u001b[0;34m]\u001b[0m \u001b[0;31m# 1 with 256 elem\u001b[0m\u001b[0;34m\u001b[0m\u001b[0;34m\u001b[0m\u001b[0m\n",
      "\u001b[0;31mKeyboardInterrupt\u001b[0m: "
     ]
    }
   ],
   "source": [
    "for i in range(n_images):\n",
    "  Resize_and_Write(i, \"N\", dataset_3)"
   ]
  },
  {
   "cell_type": "markdown",
   "metadata": {
    "id": "9cAd9ZrJ2k5Q"
   },
   "source": [
    "At the end we shuffle the lines of the dataset."
   ]
  },
  {
   "cell_type": "code",
   "execution_count": null,
   "metadata": {
    "executionInfo": {
     "elapsed": 5,
     "status": "aborted",
     "timestamp": 1668520605738,
     "user": {
      "displayName": "ilaria enache",
      "userId": "11897907361892988235"
     },
     "user_tz": -60
    },
    "id": "rQaTvAvRgObr"
   },
   "outputs": [],
   "source": [
    "lines = open('/content/gdrive/MyDrive/Computer Vision Ilaria/dataset2.txt').readlines()\n",
    "random.shuffle(lines)\n",
    "open('/content/gdrive/MyDrive/Computer Vision Ilaria/dataset2.txt', 'w').writelines(lines)"
   ]
  },
  {
   "cell_type": "markdown",
   "metadata": {
    "id": "pIBJo1pqnTuf"
   },
   "source": [
    "# **Task 7**"
   ]
  },
  {
   "cell_type": "markdown",
   "metadata": {
    "id": "vQLneFevj6Lx"
   },
   "source": [
    "In the following task we build our MLP. "
   ]
  },
  {
   "cell_type": "code",
   "execution_count": 28,
   "metadata": {
    "executionInfo": {
     "elapsed": 343,
     "status": "ok",
     "timestamp": 1668520609698,
     "user": {
      "displayName": "ilaria enache",
      "userId": "11897907361892988235"
     },
     "user_tz": -60
    },
    "id": "SeIypusennlF"
   },
   "outputs": [],
   "source": [
    "dataset_file_path = \"/content/gdrive/MyDrive/Computer Vision Ilaria/dataset1.txt\""
   ]
  },
  {
   "cell_type": "code",
   "execution_count": 29,
   "metadata": {
    "executionInfo": {
     "elapsed": 1,
     "status": "ok",
     "timestamp": 1668520609698,
     "user": {
      "displayName": "ilaria enache",
      "userId": "11897907361892988235"
     },
     "user_tz": -60
    },
    "id": "GzsswWEnnSK1"
   },
   "outputs": [],
   "source": [
    "#The following function takes the dataset file and returns two arrays: samples and letters.\n",
    "def load_dataset(dataset_file_path):\n",
    "    a = np.loadtxt(dataset_file_path, delimiter=',', converters={ 0 : lambda ch : ord(ch)-ord('A') })\n",
    "    samples, letters = a[:,1:], a[:,0] # samples takes all the rows and all the columns except the first column\n",
    "    # letters: keep only the first column\n",
    "    return samples, letters"
   ]
  },
  {
   "cell_type": "markdown",
   "metadata": {
    "id": "Z1Ky49hjkEkF"
   },
   "source": [
    "I decided to split the dataset 70% for the training and 30% for the validation."
   ]
  },
  {
   "cell_type": "code",
   "execution_count": 30,
   "metadata": {
    "colab": {
     "base_uri": "https://localhost:8080/"
    },
    "executionInfo": {
     "elapsed": 551,
     "status": "ok",
     "timestamp": 1668520612488,
     "user": {
      "displayName": "ilaria enache",
      "userId": "11897907361892988235"
     },
     "user_tz": -60
    },
    "id": "EOFlz6Kc4IL6",
    "outputId": "1e28e9ae-6e02-4ce0-ada8-c3f6244dcd58"
   },
   "outputs": [
    {
     "name": "stdout",
     "output_type": "stream",
     "text": [
      "(210, 256)\n"
     ]
    }
   ],
   "source": [
    "#here we split the dataset for training and validation\n",
    "train_ratio = 0.7\n",
    "samples, letters = load_dataset(dataset_file_path)\n",
    "n_train_samples = int(len(samples) * train_ratio)\n",
    "x_train, y_train = samples[:n_train_samples], letters[:n_train_samples] # keeps only the first 70% of rows\n",
    "x_val, y_val = samples[n_train_samples:], letters[n_train_samples:] # keeps only the last 30%\n",
    "print(x_train.shape)"
   ]
  },
  {
   "cell_type": "code",
   "execution_count": null,
   "metadata": {
    "colab": {
     "base_uri": "https://localhost:8080/"
    },
    "executionInfo": {
     "elapsed": 8877,
     "status": "ok",
     "timestamp": 1653252989111,
     "user": {
      "displayName": "ilaria enache",
      "userId": "11897907361892988235"
     },
     "user_tz": -120
    },
    "id": "TThfhk8dvaZK",
    "outputId": "c51be301-dcc1-4c74-ad28-85918b16ca92"
   },
   "outputs": [
    {
     "name": "stdout",
     "output_type": "stream",
     "text": [
      "210 train samples\n",
      "90 test samples\n",
      "Model: \"sequential_13\"\n",
      "_________________________________________________________________\n",
      " Layer (type)                Output Shape              Param #   \n",
      "=================================================================\n",
      " dense_65 (Dense)            (None, 100)               25700     \n",
      "                                                                 \n",
      " dense_66 (Dense)            (None, 100)               10100     \n",
      "                                                                 \n",
      " dropout_29 (Dropout)        (None, 100)               0         \n",
      "                                                                 \n",
      " dense_67 (Dense)            (None, 100)               10100     \n",
      "                                                                 \n",
      " dense_68 (Dense)            (None, 100)               10100     \n",
      "                                                                 \n",
      " dropout_30 (Dropout)        (None, 100)               0         \n",
      "                                                                 \n",
      " dense_69 (Dense)            (None, 26)                2626      \n",
      "                                                                 \n",
      "=================================================================\n",
      "Total params: 58,626\n",
      "Trainable params: 58,626\n",
      "Non-trainable params: 0\n",
      "_________________________________________________________________\n",
      "Epoch 1/100\n",
      "7/7 [==============================] - 1s 35ms/step - loss: 2.2507 - accuracy: 0.2429 - val_loss: 1.2102 - val_accuracy: 0.3667\n",
      "Epoch 2/100\n",
      "7/7 [==============================] - 0s 10ms/step - loss: 1.5088 - accuracy: 0.3476 - val_loss: 1.0607 - val_accuracy: 0.5778\n",
      "Epoch 3/100\n",
      "7/7 [==============================] - 0s 8ms/step - loss: 1.2057 - accuracy: 0.4952 - val_loss: 0.9629 - val_accuracy: 0.6000\n",
      "Epoch 4/100\n",
      "7/7 [==============================] - 0s 11ms/step - loss: 1.1762 - accuracy: 0.5000 - val_loss: 0.9156 - val_accuracy: 0.6111\n",
      "Epoch 5/100\n",
      "7/7 [==============================] - 0s 11ms/step - loss: 1.1248 - accuracy: 0.5000 - val_loss: 0.9219 - val_accuracy: 0.6556\n",
      "Epoch 6/100\n",
      "7/7 [==============================] - 0s 8ms/step - loss: 1.0773 - accuracy: 0.5857 - val_loss: 0.9526 - val_accuracy: 0.6444\n",
      "Epoch 7/100\n",
      "7/7 [==============================] - 0s 8ms/step - loss: 1.0444 - accuracy: 0.5714 - val_loss: 0.9427 - val_accuracy: 0.6333\n",
      "Epoch 8/100\n",
      "7/7 [==============================] - 0s 12ms/step - loss: 1.0306 - accuracy: 0.6238 - val_loss: 0.8078 - val_accuracy: 0.6222\n",
      "Epoch 9/100\n",
      "7/7 [==============================] - 0s 12ms/step - loss: 0.9898 - accuracy: 0.6095 - val_loss: 0.8126 - val_accuracy: 0.6222\n",
      "Epoch 10/100\n",
      "7/7 [==============================] - 0s 11ms/step - loss: 0.8735 - accuracy: 0.6905 - val_loss: 0.7677 - val_accuracy: 0.6667\n",
      "Epoch 11/100\n",
      "7/7 [==============================] - 0s 8ms/step - loss: 0.9067 - accuracy: 0.6571 - val_loss: 0.7639 - val_accuracy: 0.6222\n",
      "Epoch 12/100\n",
      "7/7 [==============================] - 0s 11ms/step - loss: 0.9593 - accuracy: 0.6190 - val_loss: 0.7602 - val_accuracy: 0.7111\n",
      "Epoch 13/100\n",
      "7/7 [==============================] - 0s 10ms/step - loss: 0.7943 - accuracy: 0.6810 - val_loss: 0.8430 - val_accuracy: 0.6667\n",
      "Epoch 14/100\n",
      "7/7 [==============================] - 0s 8ms/step - loss: 0.8768 - accuracy: 0.6238 - val_loss: 0.8141 - val_accuracy: 0.6000\n",
      "Epoch 15/100\n",
      "7/7 [==============================] - 0s 8ms/step - loss: 0.8102 - accuracy: 0.6571 - val_loss: 0.7187 - val_accuracy: 0.7111\n",
      "Epoch 16/100\n",
      "7/7 [==============================] - 0s 12ms/step - loss: 0.7950 - accuracy: 0.6619 - val_loss: 0.7312 - val_accuracy: 0.6556\n",
      "Epoch 17/100\n",
      "7/7 [==============================] - 0s 11ms/step - loss: 0.8393 - accuracy: 0.6810 - val_loss: 0.7763 - val_accuracy: 0.6667\n",
      "Epoch 18/100\n",
      "7/7 [==============================] - 0s 13ms/step - loss: 0.7598 - accuracy: 0.7095 - val_loss: 0.7385 - val_accuracy: 0.6778\n",
      "Epoch 19/100\n",
      "7/7 [==============================] - 0s 8ms/step - loss: 0.7608 - accuracy: 0.6952 - val_loss: 0.7886 - val_accuracy: 0.6333\n",
      "Epoch 20/100\n",
      "7/7 [==============================] - 0s 11ms/step - loss: 0.7022 - accuracy: 0.7381 - val_loss: 0.7656 - val_accuracy: 0.6556\n",
      "Epoch 21/100\n",
      "7/7 [==============================] - 0s 11ms/step - loss: 0.7004 - accuracy: 0.7238 - val_loss: 0.7747 - val_accuracy: 0.7111\n",
      "Epoch 22/100\n",
      "7/7 [==============================] - 0s 8ms/step - loss: 0.7435 - accuracy: 0.7143 - val_loss: 0.7378 - val_accuracy: 0.6889\n",
      "Epoch 23/100\n",
      "7/7 [==============================] - 0s 10ms/step - loss: 0.6890 - accuracy: 0.7333 - val_loss: 0.7263 - val_accuracy: 0.6444\n",
      "Epoch 24/100\n",
      "7/7 [==============================] - 0s 9ms/step - loss: 0.7291 - accuracy: 0.7048 - val_loss: 0.7207 - val_accuracy: 0.6667\n",
      "Epoch 25/100\n",
      "7/7 [==============================] - 0s 9ms/step - loss: 0.6300 - accuracy: 0.7619 - val_loss: 0.7048 - val_accuracy: 0.7111\n",
      "Epoch 26/100\n",
      "7/7 [==============================] - 0s 11ms/step - loss: 0.7065 - accuracy: 0.6952 - val_loss: 0.7127 - val_accuracy: 0.6333\n",
      "Epoch 27/100\n",
      "7/7 [==============================] - 0s 11ms/step - loss: 0.6399 - accuracy: 0.7619 - val_loss: 0.7189 - val_accuracy: 0.7000\n",
      "Epoch 28/100\n",
      "7/7 [==============================] - 0s 10ms/step - loss: 0.6585 - accuracy: 0.7286 - val_loss: 0.7868 - val_accuracy: 0.6444\n",
      "Epoch 29/100\n",
      "7/7 [==============================] - 0s 11ms/step - loss: 0.6357 - accuracy: 0.7476 - val_loss: 0.7183 - val_accuracy: 0.7333\n",
      "Epoch 30/100\n",
      "7/7 [==============================] - 0s 8ms/step - loss: 0.6160 - accuracy: 0.7714 - val_loss: 0.7531 - val_accuracy: 0.6222\n",
      "Epoch 31/100\n",
      "7/7 [==============================] - 0s 11ms/step - loss: 0.5840 - accuracy: 0.7714 - val_loss: 0.7478 - val_accuracy: 0.7000\n",
      "Epoch 32/100\n",
      "7/7 [==============================] - 0s 10ms/step - loss: 0.6215 - accuracy: 0.7429 - val_loss: 0.7675 - val_accuracy: 0.6222\n",
      "Epoch 33/100\n",
      "7/7 [==============================] - 0s 9ms/step - loss: 0.6184 - accuracy: 0.7524 - val_loss: 0.8251 - val_accuracy: 0.7333\n",
      "Epoch 34/100\n",
      "7/7 [==============================] - 0s 8ms/step - loss: 0.5871 - accuracy: 0.7619 - val_loss: 0.7409 - val_accuracy: 0.6333\n",
      "Epoch 35/100\n",
      "7/7 [==============================] - 0s 8ms/step - loss: 0.5420 - accuracy: 0.8000 - val_loss: 0.7480 - val_accuracy: 0.7000\n",
      "Epoch 36/100\n",
      "7/7 [==============================] - 0s 9ms/step - loss: 0.5206 - accuracy: 0.7810 - val_loss: 0.7988 - val_accuracy: 0.6444\n",
      "Epoch 37/100\n",
      "7/7 [==============================] - 0s 8ms/step - loss: 0.5495 - accuracy: 0.7714 - val_loss: 0.7753 - val_accuracy: 0.6333\n",
      "Epoch 38/100\n",
      "7/7 [==============================] - 0s 7ms/step - loss: 0.5057 - accuracy: 0.8190 - val_loss: 0.8756 - val_accuracy: 0.6333\n",
      "Epoch 39/100\n",
      "7/7 [==============================] - 0s 8ms/step - loss: 0.5440 - accuracy: 0.8000 - val_loss: 0.7603 - val_accuracy: 0.7000\n",
      "Epoch 40/100\n",
      "7/7 [==============================] - 0s 9ms/step - loss: 0.5053 - accuracy: 0.8190 - val_loss: 0.8256 - val_accuracy: 0.6333\n",
      "Epoch 41/100\n",
      "7/7 [==============================] - 0s 12ms/step - loss: 0.5163 - accuracy: 0.8048 - val_loss: 0.8276 - val_accuracy: 0.6667\n",
      "Epoch 42/100\n",
      "7/7 [==============================] - 0s 8ms/step - loss: 0.5859 - accuracy: 0.7619 - val_loss: 0.8121 - val_accuracy: 0.7444\n",
      "Epoch 43/100\n",
      "7/7 [==============================] - 0s 9ms/step - loss: 0.4017 - accuracy: 0.8524 - val_loss: 0.8240 - val_accuracy: 0.6333\n",
      "Epoch 44/100\n",
      "7/7 [==============================] - 0s 8ms/step - loss: 0.4137 - accuracy: 0.8429 - val_loss: 0.8793 - val_accuracy: 0.6778\n",
      "Epoch 45/100\n",
      "7/7 [==============================] - 0s 10ms/step - loss: 0.4698 - accuracy: 0.8286 - val_loss: 0.9125 - val_accuracy: 0.6778\n",
      "Epoch 46/100\n",
      "7/7 [==============================] - 0s 10ms/step - loss: 0.4296 - accuracy: 0.8429 - val_loss: 0.8427 - val_accuracy: 0.6889\n",
      "Epoch 47/100\n",
      "7/7 [==============================] - 0s 10ms/step - loss: 0.3856 - accuracy: 0.8238 - val_loss: 0.8031 - val_accuracy: 0.7111\n",
      "Epoch 48/100\n",
      "7/7 [==============================] - 0s 11ms/step - loss: 0.4884 - accuracy: 0.7810 - val_loss: 0.9023 - val_accuracy: 0.6556\n",
      "Epoch 49/100\n",
      "7/7 [==============================] - 0s 10ms/step - loss: 0.4102 - accuracy: 0.8190 - val_loss: 0.8245 - val_accuracy: 0.7222\n",
      "Epoch 50/100\n",
      "7/7 [==============================] - 0s 9ms/step - loss: 0.4865 - accuracy: 0.7952 - val_loss: 0.8438 - val_accuracy: 0.6778\n",
      "Epoch 51/100\n",
      "7/7 [==============================] - 0s 8ms/step - loss: 0.3540 - accuracy: 0.8571 - val_loss: 0.8660 - val_accuracy: 0.6667\n",
      "Epoch 52/100\n",
      "7/7 [==============================] - 0s 7ms/step - loss: 0.3890 - accuracy: 0.8524 - val_loss: 0.8820 - val_accuracy: 0.6667\n",
      "Epoch 53/100\n",
      "7/7 [==============================] - 0s 11ms/step - loss: 0.3680 - accuracy: 0.8619 - val_loss: 0.8827 - val_accuracy: 0.6889\n",
      "Epoch 54/100\n",
      "7/7 [==============================] - 0s 8ms/step - loss: 0.4244 - accuracy: 0.8476 - val_loss: 0.9319 - val_accuracy: 0.6667\n",
      "Epoch 55/100\n",
      "7/7 [==============================] - 0s 8ms/step - loss: 0.3345 - accuracy: 0.8571 - val_loss: 0.8708 - val_accuracy: 0.6778\n",
      "Epoch 56/100\n",
      "7/7 [==============================] - 0s 11ms/step - loss: 0.3285 - accuracy: 0.8667 - val_loss: 0.9333 - val_accuracy: 0.7111\n",
      "Epoch 57/100\n",
      "7/7 [==============================] - 0s 8ms/step - loss: 0.3062 - accuracy: 0.8905 - val_loss: 0.9997 - val_accuracy: 0.7111\n",
      "Epoch 58/100\n",
      "7/7 [==============================] - 0s 11ms/step - loss: 0.3744 - accuracy: 0.8381 - val_loss: 1.0384 - val_accuracy: 0.6222\n",
      "Epoch 59/100\n",
      "7/7 [==============================] - 0s 12ms/step - loss: 0.3563 - accuracy: 0.8524 - val_loss: 0.9807 - val_accuracy: 0.7000\n",
      "Epoch 60/100\n",
      "7/7 [==============================] - 0s 9ms/step - loss: 0.3651 - accuracy: 0.8571 - val_loss: 1.0895 - val_accuracy: 0.6000\n",
      "Epoch 61/100\n",
      "7/7 [==============================] - 0s 12ms/step - loss: 0.3119 - accuracy: 0.8714 - val_loss: 1.0538 - val_accuracy: 0.6889\n",
      "Epoch 62/100\n",
      "7/7 [==============================] - 0s 9ms/step - loss: 0.2554 - accuracy: 0.9238 - val_loss: 1.1879 - val_accuracy: 0.6889\n",
      "Epoch 63/100\n",
      "7/7 [==============================] - 0s 11ms/step - loss: 0.3877 - accuracy: 0.8714 - val_loss: 1.0552 - val_accuracy: 0.6889\n",
      "Epoch 64/100\n",
      "7/7 [==============================] - 0s 11ms/step - loss: 0.2705 - accuracy: 0.8714 - val_loss: 1.1553 - val_accuracy: 0.6889\n",
      "Epoch 65/100\n",
      "7/7 [==============================] - 0s 12ms/step - loss: 0.2405 - accuracy: 0.9048 - val_loss: 1.2347 - val_accuracy: 0.6556\n",
      "Epoch 66/100\n",
      "7/7 [==============================] - 0s 9ms/step - loss: 0.2691 - accuracy: 0.8905 - val_loss: 1.1620 - val_accuracy: 0.6556\n",
      "Epoch 67/100\n",
      "7/7 [==============================] - 0s 11ms/step - loss: 0.2513 - accuracy: 0.9048 - val_loss: 1.0272 - val_accuracy: 0.6778\n",
      "Epoch 68/100\n",
      "7/7 [==============================] - 0s 14ms/step - loss: 0.2330 - accuracy: 0.9095 - val_loss: 1.3262 - val_accuracy: 0.6778\n",
      "Epoch 69/100\n",
      "7/7 [==============================] - 0s 11ms/step - loss: 0.3705 - accuracy: 0.8571 - val_loss: 1.1163 - val_accuracy: 0.6889\n",
      "Epoch 70/100\n",
      "7/7 [==============================] - 0s 8ms/step - loss: 0.2374 - accuracy: 0.9190 - val_loss: 1.2472 - val_accuracy: 0.6333\n",
      "Epoch 71/100\n",
      "7/7 [==============================] - 0s 11ms/step - loss: 0.2045 - accuracy: 0.9238 - val_loss: 1.1961 - val_accuracy: 0.6889\n",
      "Epoch 72/100\n",
      "7/7 [==============================] - 0s 11ms/step - loss: 0.2643 - accuracy: 0.9000 - val_loss: 1.3506 - val_accuracy: 0.6778\n",
      "Epoch 73/100\n",
      "7/7 [==============================] - 0s 12ms/step - loss: 0.1883 - accuracy: 0.9190 - val_loss: 1.3089 - val_accuracy: 0.7222\n",
      "Epoch 74/100\n",
      "7/7 [==============================] - 0s 11ms/step - loss: 0.2066 - accuracy: 0.9048 - val_loss: 1.3868 - val_accuracy: 0.6889\n",
      "Epoch 75/100\n",
      "7/7 [==============================] - 0s 9ms/step - loss: 0.1902 - accuracy: 0.9190 - val_loss: 1.4723 - val_accuracy: 0.7222\n",
      "Epoch 76/100\n",
      "7/7 [==============================] - 0s 9ms/step - loss: 0.2055 - accuracy: 0.9333 - val_loss: 1.4521 - val_accuracy: 0.6444\n",
      "Epoch 77/100\n",
      "7/7 [==============================] - 0s 9ms/step - loss: 0.2050 - accuracy: 0.9381 - val_loss: 1.2196 - val_accuracy: 0.6778\n",
      "Epoch 78/100\n",
      "7/7 [==============================] - 0s 10ms/step - loss: 0.2011 - accuracy: 0.9333 - val_loss: 1.2569 - val_accuracy: 0.7000\n",
      "Epoch 79/100\n",
      "7/7 [==============================] - 0s 11ms/step - loss: 0.3871 - accuracy: 0.8571 - val_loss: 1.3685 - val_accuracy: 0.6222\n",
      "Epoch 80/100\n",
      "7/7 [==============================] - 0s 11ms/step - loss: 0.1467 - accuracy: 0.9476 - val_loss: 1.2033 - val_accuracy: 0.6778\n",
      "Epoch 81/100\n",
      "7/7 [==============================] - 0s 9ms/step - loss: 0.1305 - accuracy: 0.9476 - val_loss: 1.8114 - val_accuracy: 0.6667\n",
      "Epoch 82/100\n",
      "7/7 [==============================] - 0s 10ms/step - loss: 0.3594 - accuracy: 0.8810 - val_loss: 1.8520 - val_accuracy: 0.6000\n",
      "Epoch 83/100\n",
      "7/7 [==============================] - 0s 10ms/step - loss: 0.1644 - accuracy: 0.9286 - val_loss: 1.4896 - val_accuracy: 0.6556\n",
      "Epoch 84/100\n",
      "7/7 [==============================] - 0s 10ms/step - loss: 0.1932 - accuracy: 0.9381 - val_loss: 1.4712 - val_accuracy: 0.6556\n",
      "Epoch 85/100\n",
      "7/7 [==============================] - 0s 11ms/step - loss: 0.1110 - accuracy: 0.9667 - val_loss: 1.4623 - val_accuracy: 0.6889\n",
      "Epoch 86/100\n",
      "7/7 [==============================] - 0s 11ms/step - loss: 0.1630 - accuracy: 0.9143 - val_loss: 1.5673 - val_accuracy: 0.6222\n",
      "Epoch 87/100\n",
      "7/7 [==============================] - 0s 11ms/step - loss: 0.1449 - accuracy: 0.9286 - val_loss: 1.4039 - val_accuracy: 0.7111\n",
      "Epoch 88/100\n",
      "7/7 [==============================] - 0s 9ms/step - loss: 0.1920 - accuracy: 0.9143 - val_loss: 1.3956 - val_accuracy: 0.6889\n",
      "Epoch 89/100\n",
      "7/7 [==============================] - 0s 8ms/step - loss: 0.1269 - accuracy: 0.9476 - val_loss: 1.6494 - val_accuracy: 0.7000\n",
      "Epoch 90/100\n",
      "7/7 [==============================] - 0s 8ms/step - loss: 0.2722 - accuracy: 0.8762 - val_loss: 1.4223 - val_accuracy: 0.6556\n",
      "Epoch 91/100\n",
      "7/7 [==============================] - 0s 9ms/step - loss: 0.0634 - accuracy: 0.9857 - val_loss: 1.5443 - val_accuracy: 0.6556\n",
      "Epoch 92/100\n",
      "7/7 [==============================] - 0s 11ms/step - loss: 0.0912 - accuracy: 0.9714 - val_loss: 1.7470 - val_accuracy: 0.6778\n",
      "Epoch 93/100\n",
      "7/7 [==============================] - 0s 11ms/step - loss: 0.1438 - accuracy: 0.9381 - val_loss: 1.7298 - val_accuracy: 0.6667\n",
      "Epoch 94/100\n",
      "7/7 [==============================] - 0s 8ms/step - loss: 0.1036 - accuracy: 0.9762 - val_loss: 1.9352 - val_accuracy: 0.6778\n",
      "Epoch 95/100\n",
      "7/7 [==============================] - 0s 8ms/step - loss: 0.1290 - accuracy: 0.9381 - val_loss: 1.7149 - val_accuracy: 0.6778\n",
      "Epoch 96/100\n",
      "7/7 [==============================] - 0s 11ms/step - loss: 0.0727 - accuracy: 0.9762 - val_loss: 1.8455 - val_accuracy: 0.6667\n",
      "Epoch 97/100\n",
      "7/7 [==============================] - 0s 8ms/step - loss: 0.0805 - accuracy: 0.9810 - val_loss: 2.0408 - val_accuracy: 0.6333\n",
      "Epoch 98/100\n",
      "7/7 [==============================] - 0s 8ms/step - loss: 0.3649 - accuracy: 0.8857 - val_loss: 1.5870 - val_accuracy: 0.6889\n",
      "Epoch 99/100\n",
      "7/7 [==============================] - 0s 7ms/step - loss: 0.1265 - accuracy: 0.9429 - val_loss: 1.5724 - val_accuracy: 0.7000\n",
      "Epoch 100/100\n",
      "7/7 [==============================] - 0s 10ms/step - loss: 0.0825 - accuracy: 0.9571 - val_loss: 1.9620 - val_accuracy: 0.6556\n",
      "Validation loss: 1.9620263576507568\n",
      "Validation accuracy: 0.6555555462837219\n"
     ]
    }
   ],
   "source": [
    "num_classes = 26 # number of letters\n",
    "epochs = 100 # number of training s\n",
    "\n",
    "\n",
    "#here we split the dataset for training and validation\n",
    "train_ratio = 0.7\n",
    "samples, letters = load_dataset(dataset_file_path)\n",
    "n_train_samples = int(len(samples) * train_ratio)\n",
    "x_train, y_train = samples[:n_train_samples], letters[:n_train_samples] # keeps only the first 70% of rows\n",
    "x_val, y_val = samples[n_train_samples:], letters[n_train_samples:] # keeps only the last 30%\n",
    "\n",
    "x_train = x_train.astype('float32')\n",
    "x_val = x_val.astype('float32')\n",
    "x_train /= 255 # x_train=x_train/255    normalize the numbers in the interval [0,1]\n",
    "x_val /= 255\n",
    "print(x_train.shape[0], 'train samples') # print the number of images\n",
    "print(x_val.shape[0], 'test samples')\n",
    "\n",
    "# convert class vectors to binary class matrices\n",
    "y_train = tf.keras.utils.to_categorical(y_train, num_classes) # converts the prediction letter into a number encoding for that letter\n",
    "y_val = tf.keras.utils.to_categorical(y_val, num_classes)\n",
    "\n",
    "model = Sequential() \n",
    "model.add(Dense(100, activation='relu', input_shape=(256,))) # add a relu layer\n",
    "model.add(Dense(100, activation='relu')) # add anothe relu\n",
    "model.add(Dropout(0.4)) # add a regularizator\n",
    "model.add(Dense(100, activation='relu')) # add anothe relu\n",
    "model.add(Dense(100, activation='relu')) # add anothe relu \n",
    "model.add(Dropout(0.4)) # add a regularizator\n",
    "model.add(Dense(num_classes, activation='softmax'))  # add a final softmax layer\n",
    "\n",
    "model.summary()\n",
    "\n",
    "model.compile(loss='categorical_crossentropy',\n",
    "              optimizer='rmsprop',\n",
    "              metrics=['accuracy'])\n",
    "\n",
    "history = model.fit(x_train, y_train,   \n",
    "                    epochs=epochs,\n",
    "                    verbose=1, # if verbose=1 print data for each epoch\n",
    "                    validation_data=(x_val, y_val)) # train the network\n",
    "score = model.evaluate(x_val, y_val, verbose=0) # evaluate the obtained model  on the validation set.  #model and dataset\n",
    "print('Validation loss:', score[0]) # print the loss\n",
    "print('Validation accuracy:', score[1]) # print the accuracy"
   ]
  },
  {
   "cell_type": "markdown",
   "metadata": {
    "id": "_9FWTOSzlNLe"
   },
   "source": [
    "After I trained the model, I save the model and weights in two files in the shared folder."
   ]
  },
  {
   "cell_type": "code",
   "execution_count": 31,
   "metadata": {
    "colab": {
     "base_uri": "https://localhost:8080/",
     "height": 240
    },
    "executionInfo": {
     "elapsed": 291,
     "status": "error",
     "timestamp": 1668520618249,
     "user": {
      "displayName": "ilaria enache",
      "userId": "11897907361892988235"
     },
     "user_tz": -60
    },
    "id": "hqx2utB0xukl",
    "outputId": "83e76e94-7f38-4cb9-8935-70e8a83e96b8"
   },
   "outputs": [
    {
     "ename": "NameError",
     "evalue": "ignored",
     "output_type": "error",
     "traceback": [
      "\u001b[0;31m---------------------------------------------------------------------------\u001b[0m",
      "\u001b[0;31mNameError\u001b[0m                                 Traceback (most recent call last)",
      "\u001b[0;32m<ipython-input-31-2127f2f3de66>\u001b[0m in \u001b[0;36m<module>\u001b[0;34m\u001b[0m\n\u001b[0;32m----> 1\u001b[0;31m \u001b[0mmodel_json\u001b[0m \u001b[0;34m=\u001b[0m \u001b[0mmodel\u001b[0m\u001b[0;34m.\u001b[0m\u001b[0mto_json\u001b[0m\u001b[0;34m(\u001b[0m\u001b[0;34m)\u001b[0m\u001b[0;34m\u001b[0m\u001b[0;34m\u001b[0m\u001b[0m\n\u001b[0m\u001b[1;32m      2\u001b[0m \u001b[0;32mwith\u001b[0m \u001b[0mopen\u001b[0m\u001b[0;34m(\u001b[0m\u001b[0;34m\"/content/gdrive/MyDrive/Computer Vision Ilaria/model1.json\"\u001b[0m\u001b[0;34m,\u001b[0m \u001b[0;34m\"w\"\u001b[0m\u001b[0;34m)\u001b[0m \u001b[0;32mas\u001b[0m \u001b[0mjson_file\u001b[0m\u001b[0;34m:\u001b[0m\u001b[0;34m\u001b[0m\u001b[0;34m\u001b[0m\u001b[0m\n\u001b[1;32m      3\u001b[0m     \u001b[0mjson_file\u001b[0m\u001b[0;34m.\u001b[0m\u001b[0mwrite\u001b[0m\u001b[0;34m(\u001b[0m\u001b[0mmodel_json\u001b[0m\u001b[0;34m)\u001b[0m\u001b[0;34m\u001b[0m\u001b[0;34m\u001b[0m\u001b[0m\n\u001b[1;32m      4\u001b[0m \u001b[0mmodel\u001b[0m\u001b[0;34m.\u001b[0m\u001b[0msave_weights\u001b[0m\u001b[0;34m(\u001b[0m\u001b[0;34m\"/content/gdrive/MyDrive/Computer Vision Ilaria/model1_weights.h5\"\u001b[0m\u001b[0;34m)\u001b[0m\u001b[0;34m\u001b[0m\u001b[0;34m\u001b[0m\u001b[0m\n\u001b[1;32m      5\u001b[0m \u001b[0mprint\u001b[0m\u001b[0;34m(\u001b[0m\u001b[0;34m\"Saved model to disk\"\u001b[0m\u001b[0;34m)\u001b[0m\u001b[0;34m\u001b[0m\u001b[0;34m\u001b[0m\u001b[0m\n",
      "\u001b[0;31mNameError\u001b[0m: name 'model' is not defined"
     ]
    }
   ],
   "source": [
    "model_json = model.to_json()\n",
    "with open(\"/content/gdrive/MyDrive/Computer Vision Ilaria/model1.json\", \"w\") as json_file:\n",
    "    json_file.write(model_json)\n",
    "model.save_weights(\"/content/gdrive/MyDrive/Computer Vision Ilaria/model1_weights.h5\")\n",
    "print(\"Saved model to disk\")"
   ]
  },
  {
   "cell_type": "markdown",
   "metadata": {
    "id": "JLW0Hr3y5drv"
   },
   "source": [
    "### **Comparison**\n",
    "\n",
    "After training the 3 models we are going to see how each models performs on each dataset."
   ]
  },
  {
   "cell_type": "code",
   "execution_count": 32,
   "metadata": {
    "executionInfo": {
     "elapsed": 303,
     "status": "ok",
     "timestamp": 1668520621414,
     "user": {
      "displayName": "ilaria enache",
      "userId": "11897907361892988235"
     },
     "user_tz": -60
    },
    "id": "gssB7uI_36h0"
   },
   "outputs": [],
   "source": [
    "def evaluate_model(path, model):\n",
    "  train_ratio = 0.7\n",
    "  samples, letters = load_dataset(path) # load the dataset\n",
    "  n_train_samples = int(len(samples) * train_ratio)\n",
    "  x_train, y_train = samples[:n_train_samples], letters[:n_train_samples] # keeps only the first 70% of rows\n",
    "  x_val, y_val = samples[n_train_samples:], letters[n_train_samples:] # keeps only the last 30%\n",
    "  x_train = x_train.astype('float32')\n",
    "  x_val = x_val.astype('float32')\n",
    "  x_train /= 255 # x_train=x_train/255    normalize the numbers in the interval [0,1]\n",
    "  x_val /= 255\n",
    "  \n",
    "  print(x_train.shape[0], 'train samples') # print the number of images\n",
    "  print(x_val.shape[0], 'test samples')\n",
    "\n",
    "  # convert class vectors to binary class matrices\n",
    "  y_train = tf.keras.utils.to_categorical(y_train, num_classes) # converts the prediction letter into a number encoding for that letter\n",
    "  y_val = tf.keras.utils.to_categorical(y_val, num_classes)\n",
    "\n",
    "  score = model.evaluate(x_val, y_val, verbose=0) # evaluate the model on the validation set.  #model and dataset\n",
    "  print('Validation loss:', score[0]) # print the loss\n",
    "  print('Validation accuracy:', score[1]) # print the accuracy"
   ]
  },
  {
   "cell_type": "code",
   "execution_count": null,
   "metadata": {
    "id": "_ZQ5Uvca4Qeg"
   },
   "outputs": [],
   "source": [
    "from keras.models import model_from_json\n",
    "g_path = \"/content/gdrive/MyDrive/Computer Vision Ilaria/\"\n",
    "# load json and create model\n",
    "json_file = open(g_path+'model3.json', 'r') \n",
    "loaded_model_json = json_file.read()\n",
    "json_file.close()\n",
    "loaded_model = model_from_json(loaded_model_json)\n",
    "\n",
    "loaded_model.summary()\n",
    "# load weights into new model\n",
    "loaded_model.load_weights(g_path+\"model3_weights.h5\")\n",
    "\n",
    "loaded_model.compile(loss='categorical_crossentropy',\n",
    "              optimizer='rmsprop',\n",
    "              metrics=['accuracy'])\n",
    "\n",
    "dataset_file_paths = [g_path+\"dataset1.txt\", g_path+\"dataset2.txt\", g_path+\"dataset3.txt\"]\n",
    "for path in dataset_file_paths:\n",
    "  print(path)\n",
    "  evaluate_model(path, loaded_model)"
   ]
  },
  {
   "cell_type": "markdown",
   "metadata": {
    "id": "mtPa8f0WpW9m"
   },
   "source": [
    "Reminder:\n",
    "\n",
    "Dataset 1: 3 letters with equal number of pictures and a lot of variability \\\n",
    "Dataset 2: 3 letters with unbalanced number of pictures (50 - 100 -150) and a lot of variability \\\n",
    "Dataset 3: 3 letters with equal number of pictures and one of them with no variability (N)"
   ]
  },
  {
   "cell_type": "markdown",
   "metadata": {
    "id": "c1DfgSb8mCWW"
   },
   "source": [
    "**Model 1**\n",
    "\n",
    "**dataset1.txt** \\\n",
    "210 train samples - 90 test samples \\\n",
    "Validation loss: 1.4552514553070068 \\\n",
    "Validation accuracy: 0.6555555462837219\n",
    "\n",
    "**dataset2.txt** \\\n",
    "244 train samples - 106 test samples \\\n",
    "Validation loss: 0.9062689542770386 \\\n",
    "Validation accuracy: 0.8301886916160583\n",
    "\n",
    "**dataset3.txt** \\\n",
    "210 train samples - 90 test samples \\\n",
    "Validation loss: 0.669061005115509 \\\n",
    "Validation accuracy: 0.8444444537162781\n",
    "\n",
    "*Model 1 performs best with dataset 2 and 3, this is probably due to the unbalanced number of pictures in dataset 2 and lack of variability in dataset 3.*\n"
   ]
  },
  {
   "cell_type": "markdown",
   "metadata": {
    "id": "iD2HGGkzmST9"
   },
   "source": [
    "**Model 2**\n",
    "\n",
    "**dataset1.txt** \\\n",
    "210 train samples - 90 test samples \\\n",
    "Validation loss: 1.7094557285308838 \\\n",
    "Validation accuracy: 0.7666666507720947 \n",
    "\n",
    "**dataset2.txt** \\\n",
    "244 train samples - 106 test samples \\\n",
    "Validation loss: 0.9224103689193726 \\\n",
    "Validation accuracy: 0.8396226167678833 \n",
    "\n",
    "**dataset3.txt** \\\n",
    "210 train samples - 90 test samples \\\n",
    "Validation loss: 1.2521220445632935 \\\n",
    "Validation accuracy: 0.7555555701255798\n",
    "\n",
    "*Model 2 performs best with its own dataset. To make it simple, it's probably easier for the model to guess the right letter when one letter has such an high number of pictures compared to the others. There's a lot more probability that it's going to be the letter with the highest number of pictures.*"
   ]
  },
  {
   "cell_type": "markdown",
   "metadata": {
    "id": "0hMqSlyLmUu6"
   },
   "source": [
    "**Model 3**\n",
    "\n",
    "**dataset1.txt** \\\n",
    "210 train samples - 90 test samples \\\n",
    "Validation loss: 1.2043957710266113 \\\n",
    "Validation accuracy: 0.7888888716697693\n",
    "\n",
    "**dataset2.txt** \\\n",
    "244 train samples - 106 test samples \\\n",
    "Validation loss: 1.269263744354248 \\\n",
    "Validation accuracy: 0.7641509175300598\n",
    "\n",
    "**dataset3.txt** \\\n",
    "210 train samples - 90 test samples \\\n",
    "Validation loss: 1.8944649696350098 \\\n",
    "Validation accuracy: 0.699999988079071\n",
    "\n",
    "*Model 3 performs best with datase 1 and 2.* "
   ]
  },
  {
   "cell_type": "markdown",
   "metadata": {
    "id": "PwW_luDwzZh2"
   },
   "source": [
    "# **Task 8**"
   ]
  },
  {
   "cell_type": "markdown",
   "metadata": {
    "id": "yTs9X_MDu_Fl"
   },
   "source": [
    "Test phase: for the test phase I am going to use model 1. "
   ]
  },
  {
   "cell_type": "code",
   "execution_count": 33,
   "metadata": {
    "executionInfo": {
     "elapsed": 200,
     "status": "ok",
     "timestamp": 1668520624873,
     "user": {
      "displayName": "ilaria enache",
      "userId": "11897907361892988235"
     },
     "user_tz": -60
    },
    "id": "xXI5rFB1zchf"
   },
   "outputs": [],
   "source": [
    "# load json and create model\n",
    "json_file = open('/content/gdrive/MyDrive/Computer Vision Ilaria/model1.json', 'r')\n",
    "loaded_model_json = json_file.read()\n",
    "json_file.close()\n",
    "loaded_model = model_from_json(loaded_model_json) #not used\n",
    "# load weights into new model\n",
    "loaded_model.load_weights(\"/content/gdrive/MyDrive/Computer Vision Ilaria/model1_weights.h5\")"
   ]
  },
  {
   "cell_type": "code",
   "execution_count": 34,
   "metadata": {
    "colab": {
     "base_uri": "https://localhost:8080/"
    },
    "executionInfo": {
     "elapsed": 399,
     "status": "ok",
     "timestamp": 1668520627595,
     "user": {
      "displayName": "ilaria enache",
      "userId": "11897907361892988235"
     },
     "user_tz": -60
    },
    "id": "R4_jFwFmzsSG",
    "outputId": "35fb01bf-0566-485f-e333-931fd6502c44"
   },
   "outputs": [
    {
     "name": "stdout",
     "output_type": "stream",
     "text": [
      "1/1 [==============================] - 0s 242ms/step\n",
      "M\n"
     ]
    }
   ],
   "source": [
    "prediction = loaded_model.predict(x_train[0:1,:]) # where hand_image is the probability image of your hand of size (1,256)\n",
    "prediction = prediction.argmax()\n",
    "predicted_letter = chr(ord('A') + prediction)\n",
    "print(predicted_letter)"
   ]
  },
  {
   "cell_type": "markdown",
   "metadata": {
    "id": "Em5-DeC2vmZu"
   },
   "source": [
    "I show the hand to the camera doing some of the letters with which I trained the model.\\\n",
    "The program finds my hand, generates a gray scale image of the probability of your hand, resize the image to (1,256).\\\n",
    "Pass this image to the loaded model and predict.\\\n",
    "I show the prediction with a text in the video."
   ]
  },
  {
   "cell_type": "code",
   "execution_count": null,
   "metadata": {
    "colab": {
     "base_uri": "https://localhost:8080/",
     "height": 1000
    },
    "id": "TsEmaFHZz0ft",
    "outputId": "1a4bd365-1199-43ac-cdea-84d947cbd739"
   },
   "outputs": [
    {
     "data": {
      "application/javascript": [
       "\n",
       "    // the function 'create' creates the \"box\" that contains the videostream\n",
       "    // async functions return a promise, they make the code look synchronous, but it's asynchronous and non-blocking behind the scenes\n",
       "    async function create(){ \n",
       "      div = document.createElement('div');\n",
       "      document.body.appendChild(div);\n",
       "\n",
       "      video = document.createElement('video');\n",
       "      video.setAttribute('playsinline', '');\n",
       "\n",
       "      div.appendChild(video);\n",
       "      // await is used to call functions, the calling code will stop until the promise is resolved or rejected\n",
       "      stream = await navigator.mediaDevices.getUserMedia({video: {facingMode: \"environment\"}});\n",
       "      video.srcObject = stream;\n",
       "\n",
       "      // await is used to call functions, here we call the video.play() function\n",
       "      await video.play();\n",
       "\n",
       "      canvas =  document.createElement('canvas');\n",
       "      canvas.width = video.videoWidth;\n",
       "      canvas.height = video.videoHeight;\n",
       "      canvas.getContext('2d').drawImage(video, 0, 0);\n",
       "\n",
       "      div_out = document.createElement('div');\n",
       "      document.body.appendChild(div_out);\n",
       "      img = document.createElement('img');\n",
       "      div_out.appendChild(img);\n",
       "    }\n",
       "\n",
       "    //  \n",
       "    async function capture(){\n",
       "        return await new Promise(function(resolve, reject){\n",
       "            pendingResolve = resolve;\n",
       "            canvas.getContext('2d').drawImage(video, 0, 0);\n",
       "            result = canvas.toDataURL('image/jpeg', 0.80);\n",
       "\n",
       "            pendingResolve(result);\n",
       "        })\n",
       "    }\n",
       "\n",
       "    function showimg(imgb64){\n",
       "        img.src = \"data:image/jpg;base64,\" + imgb64;\n",
       "    }\n",
       "\n",
       "  "
      ],
      "text/plain": [
       "<IPython.core.display.Javascript object>"
      ]
     },
     "metadata": {},
     "output_type": "display_data"
    },
    {
     "data": {
      "image/png": "[encoded data removed]",
      "text/plain": [
       "<Figure size 432x288 with 1 Axes>"
      ]
     },
     "metadata": {
      "needs_background": "light"
     },
     "output_type": "display_data"
    },
    {
     "name": "stdout",
     "output_type": "stream",
     "text": [
      "1/1 [==============================] - 0s 16ms/step\n",
      "1/1 [==============================] - 0s 15ms/step\n",
      "1/1 [==============================] - 0s 15ms/step\n",
      "1/1 [==============================] - 0s 17ms/step\n",
      "1/1 [==============================] - 0s 15ms/step\n",
      "1/1 [==============================] - 0s 15ms/step\n",
      "1/1 [==============================] - 0s 14ms/step\n",
      "1/1 [==============================] - 0s 15ms/step\n",
      "1/1 [==============================] - 0s 15ms/step\n"
     ]
    }
   ],
   "source": [
    "VideoCapture()\n",
    "eval_js('create()')\n",
    "\n",
    "CascadeFace = cv2.CascadeClassifier(cv2.data.haarcascades + 'haarcascade_frontalface_default.xml')\n",
    "\n",
    "isFaceDetect=False\n",
    "margin = 30\n",
    "restr = 30\n",
    "n_images = 0\n",
    "Time = 1\n",
    "Picture_count = 1000\n",
    "while not isFaceDetect:\n",
    "  bigrect=[] \n",
    "  byte = eval_js('capture()')\n",
    "  im = byte2image(byte)\n",
    "  gray = cv2.cvtColor(im, cv2.COLOR_RGB2GRAY) # convert the image into GRAY\n",
    "  hsv =  cv2.cvtColor(im, cv2.COLOR_RGB2HSV) #convert image to color\n",
    "  face = detect(gray, cascade = CascadeFace) # face contains the rectangle\n",
    " \n",
    "  if len(face)==0:\n",
    "    isFaceDetect=False\n",
    "  else:\n",
    "    isFaceDetect=True\n",
    "    \n",
    "  if isFaceDetect: # if a face is found\n",
    "    restricted_face = restrict(face[0])\n",
    "    hsv_roi=hsv[restricted_face[1]:restricted_face[3], restricted_face[0]:restricted_face[2]] # !!! better to restrict this face for the histogram\n",
    "    mask_roi = cv2.inRange(hsv_roi, np.array((0., 60., 32.)), np.array((180., 255., 255.)))\n",
    "    bigrect.append(compute_big_rect2(face[0])) # compute bigrect and add to the list\n",
    "  \n",
    "    isDetection=True # set a flag to start camshift\n",
    "    #gray_roi = gray[bigrect[0][1]:bigrect[0][3], bigrect[0][0]:bigrect[0][2]] # compute the region of interest\n",
    "    hist=cv2.calcHist([hsv_roi], [0], mask_roi, [180], [0,180]) # compute the histogram\n",
    "    hist=cv2.normalize(hist, hist,  alpha=0, beta=255, norm_type=cv2.NORM_MINMAX) # normalize the histogram \n",
    "    plt.hist(hsv_roi.ravel(),256,[0,256]) # show the histogram\n",
    "    plt.show()\n",
    "\n",
    "    track_window = (bigrect[0][0], bigrect[0][1], bigrect[0][2], bigrect[0][3]) # compute the region of interest (bigrect)\n",
    "\n",
    "term_crit = ( cv2.TERM_CRITERIA_EPS | cv2.TERM_CRITERIA_COUNT, 10, 1 ) # sets some criteria for camshift\n",
    "\n",
    "while isDetection:\n",
    "  byte = eval_js('capture()')\n",
    "  im = byte2image(byte)\n",
    "  hsv =  cv2.cvtColor(im, cv2.COLOR_RGB2HSV) #convert image to color\n",
    "  mask = cv2.inRange(hsv, np.array((0,64,32)), np.array((180,200,200)))\n",
    "  raw_im = cv2.cvtColor(gray,cv2.COLOR_GRAY2RGB)\n",
    "  prob = cv2.calcBackProject([hsv], [0], hist, [0, 180], 1) # compute the probability matrix \n",
    "\n",
    "  for i in range(bigrect[0][0], bigrect[0][2]): # iterates between x1, x2\n",
    "    for j in range(bigrect[0][1], bigrect[0][3]): # iterates between y1, y2\n",
    "      prob[j,i]=0 # sets probability matrix to 0 on all points inside bigrect\n",
    "\n",
    "  prob &= mask\n",
    "\n",
    "  track_box, track_window = cv2.CamShift(prob, track_window, term_crit) # perform camshift over the track_window \n",
    "  im[:] = prob[...,np.newaxis] # add probability matrix to the image\n",
    "  cv2.ellipse(im, track_box, (255, 0, 0), 2) # draw the ellipse\n",
    "  \n",
    "  if n_images==Picture_count:\n",
    "    break\n",
    "  else:\n",
    "    time.sleep(Time)\n",
    "  #we crop the image to have only the hand\n",
    "  cropped_image = im[int(track_window[1]):int(track_window[1]+track_window[3]), int(track_window[0]):int(track_window[0]+track_window[2])]\n",
    "  \n",
    "  #save_image=input(\"Do you want to save the image Y or N: \")\n",
    "  resized_img = cv2.resize(cropped_image, (16, 16), interpolation = cv2.INTER_AREA)\n",
    "  resized_img = cv2.resize(resized_img, dsize=(1,256), interpolation=cv2.INTER_CUBIC)\n",
    "  resized_img = np.array([str(a[0][0]) for a in resized_img])\n",
    "  resized_img=resized_img.astype('float32')\n",
    "  resized_img /= 255.0\n",
    "  #print(resized_img[np.newaxis, :].shape)\n",
    "  prediction = loaded_model.predict(resized_img[np.newaxis, :]) # where hand_image is the probability image of your hand of size (1,256)\n",
    "  prediction = prediction.argmax()\n",
    "  predicted_letter = chr(ord('A') + prediction)\n",
    "\n",
    "  font = cv2.FONT_HERSHEY_SIMPLEX\n",
    "  cv2.putText(im, predicted_letter, (int(track_window[0]), int(track_window[1])), font, 1, (0, 255, 255), 2, cv2.LINE_4)\n",
    "\n",
    "  eval_js('showimg(\"{}\")'.format(image2byte(im)))\n",
    "  n_images+=1\n"
   ]
  },
  {
   "cell_type": "code",
   "execution_count": null,
   "metadata": {
    "id": "nBfK1Xa1_Hj2"
   },
   "outputs": [],
   "source": []
  }
 ],
 "metadata": {
  "colab": {
   "authorship_tag": "ABX9TyPlD51Slb8akR4yHsG+hSk9",
   "collapsed_sections": [],
   "provenance": []
  },
  "kernelspec": {
   "display_name": "Python 3",
   "language": "python",
   "name": "python3"
  },
  "language_info": {
   "codemirror_mode": {
    "name": "ipython",
    "version": 3
   },
   "file_extension": ".py",
   "mimetype": "text/x-python",
   "name": "python",
   "nbconvert_exporter": "python",
   "pygments_lexer": "ipython3",
   "version": "3.9.5"
  }
 },
 "nbformat": 4,
 "nbformat_minor": 1
}
